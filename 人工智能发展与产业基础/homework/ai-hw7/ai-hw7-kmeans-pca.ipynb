{
 "cells": [
  {
   "cell_type": "markdown",
   "metadata": {},
   "source": [
    "## 机器学习基础练习 7 - K-means 和PCA"
   ]
  },
  {
   "cell_type": "markdown",
   "metadata": {},
   "source": [
    "### 在本次作业中，我们将进行K-means聚类和PCA降维的练习，并使用它们来压缩图像。\n",
    "* 我们将从一个简单的2D数据集开始，以了解K-means是如何工作的，然后我们将其应用于图像压缩。 \n",
    "* 我们还将对PCA降维进行实验，了解如何使用它来找到人脸图像的低维表示。"
   ]
  },
  {
   "cell_type": "markdown",
   "metadata": {},
   "source": [
    "### 1. K-means 聚类"
   ]
  },
  {
   "cell_type": "markdown",
   "metadata": {},
   "source": [
    "为了可视化方便，我们将实施和应用K-means到一个简单的二维数据集，以获得工作原理的直观理解。K-means是一个迭代的，无监督的聚类算法，将类别相近的样本组合成簇。该算法从猜测每个簇的初始聚类中心开始，然后重复将样本分配给最近的簇，并重新计算该簇的聚类中心。"
   ]
  },
  {
   "cell_type": "code",
   "execution_count": null,
   "metadata": {},
   "outputs": [],
   "source": [
    "import numpy as np\n",
    "import pandas as pd\n",
    "import matplotlib.pyplot as plt\n",
    "import seaborn as sb\n",
    "from scipy.io import loadmat"
   ]
  },
  {
   "cell_type": "markdown",
   "metadata": {},
   "source": [
    "我们首先要实现的是找到数据中每个实例最接近的聚类中心的函数，已为大家准备好了。"
   ]
  },
  {
   "cell_type": "code",
   "execution_count": null,
   "metadata": {},
   "outputs": [],
   "source": [
    "def find_closest_centroids(X, centroids):\n",
    "    m = X.shape[0]\n",
    "    k = centroids.shape[0]\n",
    "    idx = np.zeros(m)\n",
    "    \n",
    "    for i in range(m):\n",
    "        min_dist = 1000000\n",
    "        for j in range(k):\n",
    "            dist = np.sum((X[i,:] - centroids[j,:]) ** 2)\n",
    "            if dist < min_dist:\n",
    "                min_dist = dist\n",
    "                idx[i] = j\n",
    "    \n",
    "    return idx"
   ]
  },
  {
   "cell_type": "markdown",
   "metadata": {},
   "source": [
    "让我们来测试这个函数，以确保它的工作正常。 我们将使用练习中提供的测试用例。"
   ]
  },
  {
   "cell_type": "code",
   "execution_count": null,
   "metadata": {
    "scrolled": true
   },
   "outputs": [],
   "source": [
    "data = loadmat('data/ex7data2.mat')\n",
    "X = data['X']\n",
    "initial_centroids = initial_centroids = np.array([[3, 3], [6, 2], [8, 5]])\n",
    "\n",
    "idx = find_closest_centroids(X, initial_centroids)\n",
    "idx[0:3]"
   ]
  },
  {
   "cell_type": "markdown",
   "metadata": {},
   "source": [
    "输出与文本中的预期值匹配（记住我们的数组是从0开始索引的，而不是从1开始索引）。 \n",
    "接下来，我们需要一个函数来计算簇的聚类中心。聚类中心只是当前分配给簇的所有样本的平均值。"
   ]
  },
  {
   "cell_type": "code",
   "execution_count": null,
   "metadata": {},
   "outputs": [],
   "source": [
    "data2 = pd.DataFrame(data.get('X'), columns=['X1', 'X2'])\n",
    "data2.head()"
   ]
  },
  {
   "cell_type": "code",
   "execution_count": null,
   "metadata": {},
   "outputs": [],
   "source": [
    "sb.set(context=\"notebook\", style=\"white\")\n",
    "sb.lmplot('X1', 'X2', data=data2, fit_reg=False)\n",
    "plt.show()"
   ]
  },
  {
   "cell_type": "code",
   "execution_count": null,
   "metadata": {},
   "outputs": [],
   "source": [
    "def compute_centroids(X, idx, k):\n",
    "    m, n = X.shape\n",
    "    centroids = np.zeros((k, n))\n",
    "    \n",
    "    for i in range(k):\n",
    "        indices = np.where(idx == i)\n",
    "        centroids[i,:] = (np.sum(X[indices,:], axis=1) / len(indices[0])).ravel()\n",
    "    \n",
    "    return centroids"
   ]
  },
  {
   "cell_type": "code",
   "execution_count": null,
   "metadata": {},
   "outputs": [],
   "source": [
    "compute_centroids(X, idx, 3)"
   ]
  },
  {
   "cell_type": "markdown",
   "metadata": {},
   "source": [
    "此输出也符合练习中的预期值。 \n",
    "下一部分涉及实际运行该算法的一些迭代次数和可视化结果。 \n",
    "这个步骤是由于并不复杂，我将从头开始构建它。 为了运行算法，我们只需要在将样本分配给最近的簇并重新计算簇的聚类中心。"
   ]
  },
  {
   "cell_type": "code",
   "execution_count": null,
   "metadata": {},
   "outputs": [],
   "source": [
    "def run_k_means(X, initial_centroids, max_iters):\n",
    "    m, n = X.shape\n",
    "    k = initial_centroids.shape[0]\n",
    "    idx = np.zeros(m)\n",
    "    centroids = initial_centroids\n",
    "    \n",
    "    for i in range(max_iters):\n",
    "        # YOUR_CODE_BEGIN, 请补充两行代码\n",
    "        idx = ???\n",
    "        centroids = ???\n",
    "        # YOUR_CODE_END\n",
    "    return idx, centroids"
   ]
  },
  {
   "cell_type": "code",
   "execution_count": null,
   "metadata": {},
   "outputs": [],
   "source": [
    "idx, centroids = run_k_means(X, initial_centroids, 10)"
   ]
  },
  {
   "cell_type": "code",
   "execution_count": null,
   "metadata": {},
   "outputs": [],
   "source": [
    "cluster1 = X[np.where(idx == 0)[0],:]\n",
    "cluster2 = X[np.where(idx == 1)[0],:]\n",
    "cluster3 = X[np.where(idx == 2)[0],:]\n",
    "\n",
    "fig, ax = plt.subplots(figsize=(9,6))\n",
    "ax.scatter(cluster1[:,0], cluster1[:,1], s=30, color='r', label='Cluster 1')\n",
    "ax.scatter(cluster2[:,0], cluster2[:,1], s=30, color='g', label='Cluster 2')\n",
    "ax.scatter(cluster3[:,0], cluster3[:,1], s=30, color='b', label='Cluster 3')\n",
    "ax.legend()\n",
    "plt.show()"
   ]
  },
  {
   "cell_type": "markdown",
   "metadata": {},
   "source": [
    "我们跳过的一个步骤是初始化聚类中心的过程，这会影响算法的收敛效果。\n",
    "接下来，让我们实现这个选择随机样本并将其用作初始聚类中心的函数。"
   ]
  },
  {
   "cell_type": "code",
   "execution_count": null,
   "metadata": {},
   "outputs": [],
   "source": [
    "def init_centroids(X, k):\n",
    "    m, n = X.shape\n",
    "    centroids = np.zeros((k, n))\n",
    "    idx = np.random.randint(0, m, k)\n",
    "    \n",
    "    for i in range(k):\n",
    "        # YOUR_CODE_BEGIN, 请补充一行代码\n",
    "        centroids[i,:] = ???\n",
    "        # YOUR_CODE_END\n",
    "    \n",
    "    return centroids"
   ]
  },
  {
   "cell_type": "code",
   "execution_count": null,
   "metadata": {},
   "outputs": [],
   "source": [
    "init_centroids(X, 3)"
   ]
  },
  {
   "cell_type": "markdown",
   "metadata": {},
   "source": [
    "我们的下一个任务是将K-means应用于图像压缩。 \n",
    "在下面的练习中，我们可以使用聚类来找到最具代表性的少数颜色，并使用聚类分配将原始的24位颜色映射到较低维的颜色空间。 \n",
    "\n",
    "下面是我们要压缩的图像。"
   ]
  },
  {
   "cell_type": "code",
   "execution_count": null,
   "metadata": {},
   "outputs": [],
   "source": [
    "from IPython.display import Image\n",
    "Image(filename='data/bird_small.png')"
   ]
  },
  {
   "cell_type": "markdown",
   "metadata": {},
   "source": [
    "The raw pixel data has been pre-loaded for us so let's pull it in."
   ]
  },
  {
   "cell_type": "code",
   "execution_count": null,
   "metadata": {},
   "outputs": [],
   "source": [
    "image_data = loadmat('data/bird_small.mat')\n",
    "image_data"
   ]
  },
  {
   "cell_type": "code",
   "execution_count": null,
   "metadata": {},
   "outputs": [],
   "source": [
    "A = image_data['A']\n",
    "A.shape"
   ]
  },
  {
   "cell_type": "markdown",
   "metadata": {},
   "source": [
    "现在我们需要对数据应用一些预处理，并将其提供给K-means算法。"
   ]
  },
  {
   "cell_type": "code",
   "execution_count": null,
   "metadata": {},
   "outputs": [],
   "source": [
    "# normalize value ranges\n",
    "A = A / 255.\n",
    "\n",
    "# reshape the array\n",
    "X = np.reshape(A, (A.shape[0] * A.shape[1], A.shape[2]))\n",
    "X.shape"
   ]
  },
  {
   "cell_type": "code",
   "execution_count": null,
   "metadata": {},
   "outputs": [],
   "source": [
    "# randomly initialize the centroids\n",
    "initial_centroids = init_centroids(X, 16)\n",
    "\n",
    "# run the algorithm\n",
    "idx, centroids = run_k_means(X, initial_centroids, 10)\n",
    "\n",
    "# get the closest centroids one last time\n",
    "idx = find_closest_centroids(X, centroids)\n",
    "\n",
    "# map each pixel to the centroid value\n",
    "X_recovered = centroids[idx.astype(int),:]\n",
    "X_recovered.shape"
   ]
  },
  {
   "cell_type": "code",
   "execution_count": null,
   "metadata": {},
   "outputs": [],
   "source": [
    "# reshape to the original dimensions\n",
    "X_recovered = np.reshape(X_recovered, (A.shape[0], A.shape[1], A.shape[2]))\n",
    "X_recovered.shape"
   ]
  },
  {
   "cell_type": "code",
   "execution_count": null,
   "metadata": {},
   "outputs": [],
   "source": [
    "plt.imshow(X_recovered)\n",
    "plt.show()"
   ]
  },
  {
   "cell_type": "markdown",
   "metadata": {},
   "source": [
    "您可以看到我们对图像进行了压缩，但图像的主要特征仍然存在。这就是K-means。\n",
    "\n",
    "下面我们来用scikit-learn来实现K-means。"
   ]
  },
  {
   "cell_type": "code",
   "execution_count": null,
   "metadata": {},
   "outputs": [],
   "source": [
    "from skimage import io\n",
    "\n",
    "# cast to float, you need to do this otherwise the color would be weird after clustring\n",
    "pic = io.imread('data/bird_small.png') / 255.\n",
    "io.imshow(pic)\n",
    "plt.show()"
   ]
  },
  {
   "cell_type": "code",
   "execution_count": null,
   "metadata": {},
   "outputs": [],
   "source": [
    "pic.shape"
   ]
  },
  {
   "cell_type": "code",
   "execution_count": null,
   "metadata": {},
   "outputs": [],
   "source": [
    "# serialize data\n",
    "data = pic.reshape(128*128, 3)"
   ]
  },
  {
   "cell_type": "code",
   "execution_count": null,
   "metadata": {},
   "outputs": [],
   "source": [
    "data.shape"
   ]
  },
  {
   "cell_type": "code",
   "execution_count": null,
   "metadata": {},
   "outputs": [],
   "source": [
    "from sklearn.cluster import KMeans #导入K-Means库\n",
    "\n",
    "model = KMeans(n_clusters=16, n_init=100, n_jobs=-1)"
   ]
  },
  {
   "cell_type": "code",
   "execution_count": null,
   "metadata": {},
   "outputs": [],
   "source": [
    "model.fit(data)"
   ]
  },
  {
   "cell_type": "code",
   "execution_count": null,
   "metadata": {},
   "outputs": [],
   "source": [
    "centroids = model.cluster_centers_\n",
    "print(centroids.shape)\n",
    "\n",
    "C = model.predict(data)\n",
    "print(C.shape)"
   ]
  },
  {
   "cell_type": "code",
   "execution_count": null,
   "metadata": {},
   "outputs": [],
   "source": [
    "centroids[C].shape"
   ]
  },
  {
   "cell_type": "code",
   "execution_count": null,
   "metadata": {},
   "outputs": [],
   "source": [
    "compressed_pic = centroids[C].reshape((128,128,3))"
   ]
  },
  {
   "cell_type": "code",
   "execution_count": null,
   "metadata": {},
   "outputs": [],
   "source": [
    "fig, ax = plt.subplots(1, 2)\n",
    "ax[0].imshow(pic)\n",
    "ax[1].imshow(compressed_pic)\n",
    "plt.show()"
   ]
  },
  {
   "cell_type": "markdown",
   "metadata": {},
   "source": [
    "### 2. Principal component analysis（主成分分析）"
   ]
  },
  {
   "cell_type": "markdown",
   "metadata": {},
   "source": [
    "PCA是在数据集中找到“主成分”或最大方差方向的线性变换。 它可以用于降维。\n",
    "在本练习中，我们将实现PCA应用于一个简单的二维数据集，以了解它是如何工作的。\n",
    "我们从首先加载和可视化数据集开始。"
   ]
  },
  {
   "cell_type": "code",
   "execution_count": null,
   "metadata": {},
   "outputs": [],
   "source": [
    "data = loadmat('data/ex7data1.mat')\n",
    "data"
   ]
  },
  {
   "cell_type": "code",
   "execution_count": null,
   "metadata": {},
   "outputs": [],
   "source": [
    "X = data['X']\n",
    "\n",
    "fig, ax = plt.subplots(figsize=(9,6))\n",
    "ax.scatter(X[:, 0], X[:, 1])\n",
    "plt.show()"
   ]
  },
  {
   "cell_type": "markdown",
   "metadata": {},
   "source": [
    "PCA的算法相当简单。 在确保数据被归一化之后，输出仅仅是原始数据的协方差矩阵的奇异值分解。\n",
    "请实现PCA算法。"
   ]
  },
  {
   "cell_type": "code",
   "execution_count": null,
   "metadata": {},
   "outputs": [],
   "source": [
    "def pca(X):\n",
    "    # normalize the features\n",
    "    # YOUR_CODE_BEGIN, 请补充一行代码\n",
    "    X = ???\n",
    "    # YOUR_CODE_END\n",
    "    \n",
    "    # compute the covariance matrix\n",
    "    X = np.matrix(X)\n",
    "    # YOUR_CODE_BEGIN, 请补充一行代码\n",
    "    cov = ???\n",
    "    # YOUR_CODE_END\n",
    "    \n",
    "    # perform SVD\n",
    "    # YOUR_CODE_BEGIN, 请补充一行代码\n",
    "    U, S, V = ???\n",
    "    # YOUR_CODE_END\n",
    "    \n",
    "    return U, S, V"
   ]
  },
  {
   "cell_type": "code",
   "execution_count": null,
   "metadata": {},
   "outputs": [],
   "source": [
    "U, S, V = pca(X)\n",
    "U, S, V"
   ]
  },
  {
   "cell_type": "markdown",
   "metadata": {},
   "source": [
    "现在我们有主成分（矩阵U），我们可以用这些来将原始数据投影到一个较低维的空间中。\n",
    "对于这个任务，我们将实现一个投影函数，仅选择顶部k个分量，从而有效地减少了维数。"
   ]
  },
  {
   "cell_type": "code",
   "execution_count": null,
   "metadata": {},
   "outputs": [],
   "source": [
    "def project_data(X, U, k):\n",
    "    U_reduced = U[:,:k]\n",
    "    return np.dot(X, U_reduced)"
   ]
  },
  {
   "cell_type": "code",
   "execution_count": null,
   "metadata": {},
   "outputs": [],
   "source": [
    "Z = project_data(X, U, 1)\n",
    "Z"
   ]
  },
  {
   "cell_type": "markdown",
   "metadata": {},
   "source": [
    "我们也可以通过反向转换步骤来恢复原始数据，请实现这个函数。"
   ]
  },
  {
   "cell_type": "code",
   "execution_count": null,
   "metadata": {},
   "outputs": [],
   "source": [
    "def recover_data(Z, U, k):\n",
    "    # YOUR_CODE_BEGIN, 请补充一行代码\n",
    "    U_reduced = ???\n",
    "    # YOUR_CODE_END\n",
    "    \n",
    "    # YOUR_CODE_BEGIN, 请补充一行代码\n",
    "    return ???\n",
    "    # YOUR_CODE_END"
   ]
  },
  {
   "cell_type": "code",
   "execution_count": null,
   "metadata": {},
   "outputs": [],
   "source": [
    "X_recovered = recover_data(Z, U, 1)\n",
    "X_recovered"
   ]
  },
  {
   "cell_type": "code",
   "execution_count": null,
   "metadata": {},
   "outputs": [],
   "source": [
    "fig, ax = plt.subplots(figsize=(12,8))\n",
    "ax.scatter(list(X_recovered[:, 0]), list(X_recovered[:, 1]))\n",
    "plt.show()"
   ]
  },
  {
   "cell_type": "markdown",
   "metadata": {},
   "source": [
    "我们看到，第一主成分的投影轴基本上是数据集中的对角线。当我们将数据减少到仅有一个维度时，我们失去了该对角线周围的变化，所以在我们的恢复数据中，一切都沿着该对角线。\n",
    "\n",
    "我们在此练习中的最后一个任务是将PCA应用于人脸图像。通过使用相同的降维技术，我们可以使用比原始图像少得多的数据来捕获图像的“本质”。"
   ]
  },
  {
   "cell_type": "code",
   "execution_count": null,
   "metadata": {},
   "outputs": [],
   "source": [
    "faces = loadmat('data/ex7faces.mat')\n",
    "X = faces['X']\n",
    "X.shape"
   ]
  },
  {
   "cell_type": "code",
   "execution_count": null,
   "metadata": {},
   "outputs": [],
   "source": [
    "def plot_n_image(X, n):\n",
    "    \"\"\" plot first n images\n",
    "    n has to be a square number\n",
    "    \"\"\"\n",
    "    pic_size = int(np.sqrt(X.shape[1]))\n",
    "    grid_size = int(np.sqrt(n))\n",
    "\n",
    "    first_n_images = X[:n, :]\n",
    "\n",
    "    fig, ax_array = plt.subplots(nrows=grid_size, ncols=grid_size,\n",
    "                                    sharey=True, sharex=True, figsize=(8, 8))\n",
    "\n",
    "    for r in range(grid_size):\n",
    "        for c in range(grid_size):\n",
    "            ax_array[r, c].imshow(first_n_images[grid_size * r + c].reshape((pic_size, pic_size)))\n",
    "            plt.xticks(np.array([]))\n",
    "            plt.yticks(np.array([]))\n"
   ]
  },
  {
   "cell_type": "markdown",
   "metadata": {},
   "source": [
    "上述函数用来显示前n张人脸图像，你可以使用这个函数查看一下都有哪些人脸图像，选择一个你喜欢的进行接下来的练习，:)\n",
    "有条件的同学可以尝试替换成自己的大头照进行下面的测试。"
   ]
  },
  {
   "cell_type": "code",
   "execution_count": null,
   "metadata": {},
   "outputs": [],
   "source": [
    "face = np.reshape(X[30,:], (32, 32))"
   ]
  },
  {
   "cell_type": "code",
   "execution_count": null,
   "metadata": {},
   "outputs": [],
   "source": [
    "plt.imshow(face)\n",
    "plt.show()"
   ]
  },
  {
   "cell_type": "markdown",
   "metadata": {},
   "source": [
    "看起来很糟糕，马赛克效果比较明显吧。这些是只有32 x 32灰度的图像。\n",
    "我们的下一步是在面数据集上运行PCA，并取得前100个主要特征。"
   ]
  },
  {
   "cell_type": "code",
   "execution_count": null,
   "metadata": {},
   "outputs": [],
   "source": [
    "U, S, V = pca(X)\n",
    "Z = project_data(X, U, 100)"
   ]
  },
  {
   "cell_type": "markdown",
   "metadata": {},
   "source": [
    "现在我们可以尝试恢复原来的结构并再次渲染。"
   ]
  },
  {
   "cell_type": "code",
   "execution_count": null,
   "metadata": {},
   "outputs": [],
   "source": [
    "X_recovered = recover_data(Z, U, 100)\n",
    "face = np.reshape(X_recovered[30,:], (32, 32))\n",
    "plt.imshow(face)\n",
    "plt.show()"
   ]
  },
  {
   "cell_type": "markdown",
   "metadata": {},
   "source": [
    "请注意，我们失去了一些细节，尽管没有像您预期的维度数量减少10倍，但总得显示效果还不错。"
   ]
  },
  {
   "cell_type": "code",
   "execution_count": null,
   "metadata": {},
   "outputs": [],
   "source": []
  }
 ],
 "metadata": {
  "kernelspec": {
   "display_name": "Python 3",
   "language": "python",
   "name": "python3"
  },
  "language_info": {
   "codemirror_mode": {
    "name": "ipython",
    "version": 3
   },
   "file_extension": ".py",
   "mimetype": "text/x-python",
   "name": "python",
   "nbconvert_exporter": "python",
   "pygments_lexer": "ipython3",
   "version": "3.7.0"
  }
 },
 "nbformat": 4,
 "nbformat_minor": 1
}
