{
 "cells": [
  {
   "cell_type": "code",
   "execution_count": 1,
   "id": "9e93f9c6",
   "metadata": {},
   "outputs": [
    {
     "data": {
      "text/plain": [
       "'1.15.0'"
      ]
     },
     "execution_count": 1,
     "metadata": {},
     "output_type": "execute_result"
    }
   ],
   "source": [
    "import tensorflow as tf\n",
    "import h5py\n",
    "import os\n",
    "import numpy as np\n",
    "from PIL import Image\n",
    "import matplotlib.pyplot as plt\n",
    "import sklearn\n",
    "from sklearn import preprocessing\n",
    "import scipy\n",
    "tf.__version__"
   ]
  },
  {
   "cell_type": "markdown",
   "id": "e892380c",
   "metadata": {},
   "source": [
    "# 手写汉字数字的识别\n",
    "\n",
    "## 数据集的构建\n",
    "  这里我所找到的数据集是从一到十总共800张图片，然后我用50张图片作为测试集，用CNN来进行训练预测"
   ]
  },
  {
   "cell_type": "code",
   "execution_count": 2,
   "id": "94cec071",
   "metadata": {},
   "outputs": [],
   "source": [
    "# 未处理图片的位置\n",
    "orig_pictures = r'RawData'\n",
    "\n",
    "# 已处理的图片存储位置\n",
    "gen_pictures = r'CompletedData'"
   ]
  },
  {
   "cell_type": "code",
   "execution_count": 3,
   "id": "a1877162",
   "metadata": {},
   "outputs": [],
   "source": [
    "# 查询需要分类的类别以及样本的总数\n",
    "classes = [\"one\",\"two\",\"three\",\"four\",\n",
    "            \"five\",\"six\",\"seven\",\"eight\",\"nine\",\"ten\"]"
   ]
  },
  {
   "cell_type": "code",
   "execution_count": 4,
   "id": "60aa6086",
   "metadata": {},
   "outputs": [],
   "source": [
    "def get_traindate(orig_dir, gen_dir, classes):\n",
    "    i = 0\n",
    "    for index, name in enumerate(classes):\n",
    "        class_path = orig_dir + '\\\\' + name + '\\\\'  # 扫描原始的图片\n",
    "        gen_train_path = gen_dir + '\\\\' + name  # 判断是否有文件夹\n",
    "        folder = os.path.exists(gen_train_path)\n",
    "        \n",
    "        if not folder:\n",
    "            os.makedirs(gen_train_path)\n",
    "            print(gen_train_path, \"new file\")\n",
    "        else:\n",
    "            print(\"There is the file\")\n",
    "        \n",
    "        # 给图片加编号保存\n",
    "        for imagename_dir in os.listdir(class_path):\n",
    "            i += 1\n",
    "            origimage_path = class_path + imagename_dir\n",
    "            # 统一格式\n",
    "            image_data = Image.open(origimage_path).convert('RGB')\n",
    "            image_date = image_data.resize((64, 64))\n",
    "            image_data.save(gen_train_path + '\\\\' + name + str(i) + '.jpg')\n",
    "            num_samples = i\n",
    "    \n",
    "    print('picture : %d' % num_samples)"
   ]
  },
  {
   "cell_type": "code",
   "execution_count": 5,
   "id": "d3b9c575",
   "metadata": {},
   "outputs": [
    {
     "name": "stdout",
     "output_type": "stream",
     "text": [
      "CompletedData\\one new file\n",
      "CompletedData\\two new file\n",
      "CompletedData\\three new file\n",
      "CompletedData\\four new file\n",
      "CompletedData\\five new file\n",
      "CompletedData\\six new file\n",
      "CompletedData\\seven new file\n",
      "CompletedData\\eight new file\n",
      "CompletedData\\nine new file\n",
      "CompletedData\\ten new file\n",
      "picture : 800\n"
     ]
    }
   ],
   "source": [
    "get_traindate(orig_pictures, gen_pictures, classes)"
   ]
  },
  {
   "cell_type": "code",
   "execution_count": 6,
   "id": "d7be751c",
   "metadata": {},
   "outputs": [],
   "source": [
    "one = []\n",
    "label_one = []\n",
    "two = []\n",
    "label_two = []\n",
    "three = []\n",
    "label_three = []\n",
    "four = []\n",
    "label_four = []\n",
    "five = []\n",
    "label_five = []\n",
    "six = []\n",
    "label_six = []\n",
    "seven = []\n",
    "label_seven = []\n",
    "eight = []\n",
    "label_eight = []\n",
    "nine = []\n",
    "label_nine = []\n",
    "ten = []\n",
    "label_ten = []"
   ]
  },
  {
   "cell_type": "code",
   "execution_count": 7,
   "id": "1fab6314",
   "metadata": {},
   "outputs": [],
   "source": [
    "def get_files(file_dir):\n",
    "    for file in os.listdir(file_dir + '\\\\' + 'one'):\n",
    "        one.append(file_dir + '\\\\' + 'one' + '\\\\' + file)\n",
    "        label_one.append(0)\n",
    "    for file in os.listdir(file_dir + '\\\\' + 'two'):\n",
    "        one.append(file_dir + '\\\\' + 'two' + '\\\\' + file)\n",
    "        label_two.append(1)\n",
    "    for file in os.listdir(file_dir + '\\\\' + 'three'):\n",
    "        one.append(file_dir + '\\\\' + 'three' + '\\\\' + file)\n",
    "        label_three.append(2)\n",
    "    for file in os.listdir(file_dir + '\\\\' + 'four'):\n",
    "        one.append(file_dir + '\\\\' + 'four' + '\\\\' + file)\n",
    "        label_four.append(3)\n",
    "    for file in os.listdir(file_dir + '\\\\' + 'five'):\n",
    "        one.append(file_dir + '\\\\' + 'five' + '\\\\' + file)\n",
    "        label_five.append(4)\n",
    "    for file in os.listdir(file_dir + '\\\\' + 'six'):\n",
    "        one.append(file_dir + '\\\\' + 'six' + '\\\\' + file)\n",
    "        label_six.append(5)\n",
    "    for file in os.listdir(file_dir + '\\\\' + 'seven'):\n",
    "        one.append(file_dir + '\\\\' + 'seven' + '\\\\' + file)\n",
    "        label_seven.append(6)\n",
    "    for file in os.listdir(file_dir + '\\\\' + 'eight'):\n",
    "        one.append(file_dir + '\\\\' + 'eight' + '\\\\' + file)\n",
    "        label_eight.append(7)\n",
    "    for file in os.listdir(file_dir + '\\\\' + 'nine'):\n",
    "        one.append(file_dir + '\\\\' + 'nine' + '\\\\' + file)\n",
    "        label_nine.append(8)\n",
    "    for file in os.listdir(file_dir + '\\\\' + 'ten'):\n",
    "        one.append(file_dir + '\\\\' + 'ten' + '\\\\' + file)\n",
    "        label_ten.append(9)\n",
    "    \n",
    "    #把所有数据集进行合并\n",
    "    image_list = np.hstack((one,two,three,four,five,six,seven,eight,nine,ten))\n",
    "    label_list = np.hstack((label_one,label_two,label_three,label_four,label_five,label_six,label_seven,label_eight,label_nine,label_ten))\n",
    "    \n",
    "    #利用shuffle打乱顺序\n",
    "    temp = np.array([image_list, label_list])\n",
    "    temp = temp.transpose()\n",
    "    np.random.shuffle(temp)\n",
    "    \n",
    "    #从打乱的temp中再取出list（img和lab）\n",
    "    image_list = list(temp[:,0])\n",
    "    label_list = list(temp[:,1])\n",
    "    label_list = [int(i) for i in label_list] \n",
    "\n",
    "    return image_list,label_list"
   ]
  },
  {
   "cell_type": "code",
   "execution_count": 8,
   "id": "8f78dd45",
   "metadata": {},
   "outputs": [],
   "source": [
    "train_dir = r'C:\\Users\\Zyi\\Desktop\\NJU\\Data\\Completed Data'\n",
    "image_list,label_list = get_files(train_dir)\n",
    "Train_image =  np.random.rand(len(image_list)-50, 64, 64, 3).astype('float32')\n",
    "#这里50为测试集，根据需求改\n",
    "Train_label = np.random.rand(len(image_list)-50, 1).astype('int')\n",
    " \n",
    "Test_image =  np.random.rand(50, 64, 64, 3).astype('float32')\n",
    "Test_label = np.random.rand(50, 1).astype('int')\n",
    "for i in range(len(image_list)-50):\n",
    "    Train_image[i] = np.array(plt.imread(image_list[i]))\n",
    "    Train_label[i] = np.array(label_list[i])\n",
    " \n",
    "for i in range(len(image_list)-50, len(image_list)):\n",
    "    Test_image[i+50-len(image_list)] = np.array(plt.imread(image_list[i]))\n",
    "    Test_label[i+50-len(image_list)] = np.array(label_list[i])\n",
    "\n",
    "f = h5py.File('data.h5', 'w')\n",
    "f.create_dataset('X_train', data=Train_image)\n",
    "f.create_dataset('y_train', data=Train_label)\n",
    "f.create_dataset('X_test', data=Test_image)\n",
    "f.create_dataset('y_test', data=Test_label)\n",
    "f.close()\n",
    "#文件生成在此py文件同一文件夹下"
   ]
  },
  {
   "cell_type": "markdown",
   "id": "d0bf9328",
   "metadata": {},
   "source": [
    "\n",
    "  这样我们的数据集就构建好啦，下面可以开始用CNN来进行训练和预测了"
   ]
  },
  {
   "cell_type": "code",
   "execution_count": 9,
   "id": "38f7fabe",
   "metadata": {},
   "outputs": [
    {
     "name": "stdout",
     "output_type": "stream",
     "text": [
      "1.15.0\n"
     ]
    }
   ],
   "source": [
    "import math\n",
    "import numpy as np\n",
    "import h5py\n",
    "import matplotlib.pyplot as plt\n",
    "import scipy\n",
    "import tensorflow as tf\n",
    "from PIL import Image\n",
    "from scipy import ndimage\n",
    "from tensorflow.python.framework import ops\n",
    "from cnn_utils import *\n",
    "\n",
    "%matplotlib inline\n",
    "np.random.seed(1)\n",
    "print(tf.__version__)"
   ]
  },
  {
   "cell_type": "code",
   "execution_count": 10,
   "id": "a23b608f",
   "metadata": {},
   "outputs": [],
   "source": [
    "# 载入刚才制作的h5数据集\n",
    "train_dataset = h5py.File('data.h5', 'r')\n",
    "X_train_orig = np.array(train_dataset['X_train'][:])\n",
    "Y_train_orig = np.array(train_dataset['y_train'][:])\n",
    "X_test_orig = np.array(train_dataset['X_test'][:])\n",
    "Y_test_orig = np.array(train_dataset['y_test'][:])\n",
    "\n",
    "# 归一化\n",
    "X_train = X_train_orig / 255\n",
    "X_test = X_test_orig / 255"
   ]
  },
  {
   "cell_type": "code",
   "execution_count": 11,
   "id": "d55bce61",
   "metadata": {},
   "outputs": [
    {
     "name": "stdout",
     "output_type": "stream",
     "text": [
      "y = 7\n"
     ]
    },
    {
     "data": {
      "image/png": "[encoded data removed]",
      "text/plain": [
       "<Figure size 432x288 with 1 Axes>"
      ]
     },
     "metadata": {
      "needs_background": "light"
     },
     "output_type": "display_data"
    }
   ],
   "source": [
    "# 看看数据集的样子\n",
    "t = 5\n",
    "plt.imshow(X_train[t])\n",
    "# 这里最后要加一是因为数据集是一到十，标记的时候我们用0到9，所以这里手动加一\n",
    "print(\"y = \" + str(np.squeeze(Y_train_orig[t] + 1)))"
   ]
  },
  {
   "cell_type": "code",
   "execution_count": 12,
   "id": "7802739a",
   "metadata": {},
   "outputs": [
    {
     "name": "stdout",
     "output_type": "stream",
     "text": [
      "number of training examples = 750\n",
      "number of test examples = 50\n",
      "X_train shape: (750, 64, 64, 3)\n",
      "Y_train shape: (750, 10)\n",
      "X_test shape: (50, 64, 64, 3)\n",
      "Y_test shape: (50, 10)\n",
      "[0. 0. 0. 0. 0. 0. 1. 0. 0. 0.]\n"
     ]
    }
   ],
   "source": [
    "# 再确认一下数据集的大小\n",
    "Y_train_orig = Y_train_orig.T\n",
    "Y_test_orig = Y_test_orig.T\n",
    "# 转成one-hot类型编码\n",
    "Y_train = convert_to_one_hot(Y_train_orig, 10).T\n",
    "Y_test = convert_to_one_hot(Y_test_orig, 10).T\n",
    "\n",
    "print(\"number of training examples = \" + str(X_train.shape[0]))\n",
    "print(\"number of test examples = \" + str(X_test.shape[0]))\n",
    "print(\"X_train shape: \" + str(X_train.shape))\n",
    "print(\"Y_train shape: \" + str(Y_train.shape))\n",
    "print(\"X_test shape: \" + str(X_test.shape))\n",
    "print(\"Y_test shape: \" + str(Y_test.shape))\n",
    "\n",
    "conv_layers = {}\n",
    "print(Y_train[5])"
   ]
  },
  {
   "cell_type": "code",
   "execution_count": 13,
   "id": "979a3212",
   "metadata": {},
   "outputs": [],
   "source": [
    "# 开始构建卷积层\n",
    "# 四个参数分别代表卷积核的高、宽、通道数以及output的数量(即1-10十种情况)\n",
    "def create_placeholders(n_H0, n_W0, n_C0, n_y):\n",
    "    X = tf.placeholder(tf.float32, shape = [None, n_H0, n_W0, n_C0])\n",
    "    Y = tf.placeholder(tf.float32, shape = [None, n_y])\n",
    "    \n",
    "    return X, Y"
   ]
  },
  {
   "cell_type": "code",
   "execution_count": 14,
   "id": "283282cf",
   "metadata": {},
   "outputs": [
    {
     "name": "stdout",
     "output_type": "stream",
     "text": [
      "X = Tensor(\"Placeholder:0\", shape=(?, 64, 64, 3), dtype=float32)\n",
      "Y = Tensor(\"Placeholder_1:0\", shape=(?, 10), dtype=float32)\n"
     ]
    }
   ],
   "source": [
    "X, Y = create_placeholders(64, 64, 3, 10)\n",
    "print(\"X = \" + str(X))\n",
    "print(\"Y = \" + str(Y))"
   ]
  },
  {
   "cell_type": "code",
   "execution_count": 15,
   "id": "922ba5b5",
   "metadata": {},
   "outputs": [],
   "source": [
    "# 初始化我们的卷积核中的参数大小\n",
    "# 这里我们采用两层卷积加上一层全连接的结构\n",
    "def initialize_parameters():\n",
    "    tf.set_random_seed(1)\n",
    "    \n",
    "    # 第一层卷积层，4x4x3，数量为8\n",
    "    W1 = tf.get_variable(\"W1\", [4, 4, 3, 8], initializer=tf.contrib.layers.xavier_initializer(seed=0))\n",
    "    # 第二层卷积层，2x2x8，数量为16\n",
    "    W2 = tf.get_variable(\"W2\", [2, 2, 8, 16], initializer=tf.contrib.layers.xavier_initializer(seed=0))\n",
    "    # 全连接层，128x10的大小\n",
    "    W3 = tf.get_variable(\"W4\", [64, 10], initializer=tf.contrib.layers.xavier_initializer(seed=0))\n",
    "    \n",
    "    parameters = {\"W1\": W1,\n",
    "                  \"W2\": W2,\n",
    "                  \"W3\": W3}\n",
    "    \n",
    "    return parameters"
   ]
  },
  {
   "cell_type": "code",
   "execution_count": 16,
   "id": "3f5fd044",
   "metadata": {},
   "outputs": [
    {
     "name": "stdout",
     "output_type": "stream",
     "text": [
      "WARNING:tensorflow:\n",
      "The TensorFlow contrib module will not be included in TensorFlow 2.0.\n",
      "For more information, please see:\n",
      "  * https://github.com/tensorflow/community/blob/master/rfcs/20180907-contrib-sunset.md\n",
      "  * https://github.com/tensorflow/addons\n",
      "  * https://github.com/tensorflow/io (for I/O related ops)\n",
      "If you depend on functionality not listed there, please file an issue.\n",
      "\n",
      "<tf.Variable 'W1:0' shape=(4, 4, 3, 8) dtype=float32_ref>\n",
      "<tf.Variable 'W2:0' shape=(2, 2, 8, 16) dtype=float32_ref>\n",
      "<tf.Variable 'W4:0' shape=(64, 10) dtype=float32_ref>\n",
      "\n",
      "W1 = [ 0.00131723  0.1417614  -0.04434952  0.09197326  0.14984085 -0.03514394\n",
      " -0.06847463  0.05245192]\n",
      "W2 = [-0.08566415  0.17750949  0.11974221  0.16773748 -0.0830943  -0.08058\n",
      " -0.00577033 -0.14643836  0.24162132 -0.05857408 -0.19055021  0.1345228\n",
      " -0.22779644 -0.1601823  -0.16117483 -0.10286498]\n",
      "W3 = 0.2011595\n"
     ]
    }
   ],
   "source": [
    "tf.reset_default_graph()\n",
    "# 让我们来看看我们卷积核的样子\n",
    "with tf.Session() as sess_test:\n",
    "    parameters = initialize_parameters()\n",
    "    init = tf.global_variables_initializer()\n",
    "    # 变量的初始化\n",
    "    sess_test.run(init)\n",
    "    print(parameters[\"W1\"])\n",
    "    print(parameters[\"W2\"])\n",
    "    print(parameters[\"W3\"])\n",
    "    \n",
    "    print()\n",
    "    print(\"W1 = \" + str(parameters[\"W1\"].eval()[1,1,1]))\n",
    "    print(\"W2 = \" + str(parameters[\"W2\"].eval()[1,1,1]))\n",
    "    print(\"W3 = \" + str(parameters[\"W3\"].eval()[1,1]))"
   ]
  },
  {
   "cell_type": "code",
   "execution_count": 17,
   "id": "e22a4fe2",
   "metadata": {},
   "outputs": [],
   "source": [
    "# 正向传播\n",
    "\n",
    "def forward_propagation(X, parameters):\n",
    "    \"\"\"\n",
    "    这里我们训练的流程是:卷积 -> RELU -> MAXPOOL -> 卷积 -> RELU -> MAXPOOL -> FLATTEN -> FULLYCONNETED\n",
    "    \n",
    "    参数:X是输入层输送进来的数据，parameters是隐藏层中卷积核和全连接W矩阵的参数，提前设置好\n",
    "    Return：output layer ：Z3\n",
    "    \"\"\"\n",
    "    \n",
    "    W1 = parameters[\"W1\"]\n",
    "    W2 = parameters[\"W2\"]\n",
    "    W3 = parameters[\"W3\"]\n",
    "    \n",
    "    # 第一层卷积\n",
    "    Z1 = tf.nn.conv2d(X, W1, strides=[1,1,1,1], padding=\"SAME\")\n",
    "    A1 = tf.nn.relu(Z1)\n",
    "    P1 = tf.nn.max_pool(A1, ksize=[1,8,8,1], strides=[1,8,8,1], padding=\"SAME\")\n",
    "    # 第二层卷积\n",
    "    # 经过第一层的卷积+池化，现在的图片大小为8x8x8\n",
    "    Z2 = tf.nn.conv2d(P1, W2, strides=[1,1,1,1], padding=\"SAME\")\n",
    "    A2 = tf.nn.relu(Z2)\n",
    "    P2 = tf.nn.max_pool(A2, ksize=[1,4,4,1], strides=[1,4,4,1], padding=\"SAME\")\n",
    "    # 经过第二层的卷积+池化，现在的图片大小是2x2x16\n",
    "    \n",
    "    # 将16个通道平铺成一个向量\n",
    "    P2 = tf.contrib.layers.flatten(P2)\n",
    "    # print(\"P2 shape: \" + str(P2.shape))\n",
    "    \n",
    "    Z3 = tf.matmul(P2, W3)\n",
    "    \n",
    "    return Z3"
   ]
  },
  {
   "cell_type": "code",
   "execution_count": 18,
   "id": "407ed68a",
   "metadata": {},
   "outputs": [
    {
     "name": "stdout",
     "output_type": "stream",
     "text": [
      "WARNING:tensorflow:From d:\\anaconda\\envs\\tensorflow\\lib\\site-packages\\tensorflow_core\\contrib\\layers\\python\\layers\\layers.py:1634: flatten (from tensorflow.python.layers.core) is deprecated and will be removed in a future version.\n",
      "Instructions for updating:\n",
      "Use keras.layers.flatten instead.\n",
      "WARNING:tensorflow:From d:\\anaconda\\envs\\tensorflow\\lib\\site-packages\\tensorflow_core\\python\\layers\\core.py:332: Layer.apply (from tensorflow.python.keras.engine.base_layer) is deprecated and will be removed in a future version.\n",
      "Instructions for updating:\n",
      "Please use `layer.__call__` method instead.\n",
      "Z3 = [[-3.6391187  -0.40035293  2.6781218  -1.1577153  -0.7321391  -2.0522006\n",
      "   2.0173054  -3.4039555  -1.032423   -2.2833967 ]\n",
      " [-3.3136015  -0.23735599  2.5692573  -0.7910237  -0.24624008 -1.6117853\n",
      "   1.7850629  -3.2946327  -1.1045173  -2.327226  ]]\n"
     ]
    }
   ],
   "source": [
    "tf.reset_default_graph()\n",
    "\n",
    "with tf.Session() as sess:\n",
    "    np.random.seed(1)\n",
    "    X, Y = create_placeholders(64, 64, 3, 10)\n",
    "    parameters = initialize_parameters()\n",
    "    Z3 = forward_propagation(X, parameters)\n",
    "    init = tf.global_variables_initializer()\n",
    "    sess.run(init)\n",
    "    a = sess.run(Z3, {X: np.random.randn(2, 64, 64, 3), Y: np.random.randn(2, 10)})\n",
    "    print(\"Z3 = \" + str(a))"
   ]
  },
  {
   "cell_type": "markdown",
   "id": "d279e825",
   "metadata": {},
   "source": [
    "## 实现代价函数\n",
    "  softmax and reduce_mean"
   ]
  },
  {
   "cell_type": "code",
   "execution_count": 19,
   "id": "e6582ae2",
   "metadata": {},
   "outputs": [],
   "source": [
    "# 代价函数\n",
    "def compute_cost(Z3, Y):\n",
    "    cost = tf.nn.softmax_cross_entropy_with_logits_v2(logits = Z3, labels = Y)\n",
    "    cost = tf.reduce_mean(cost)\n",
    "    \n",
    "    return cost"
   ]
  },
  {
   "cell_type": "code",
   "execution_count": 20,
   "id": "7ba54bd4",
   "metadata": {},
   "outputs": [
    {
     "name": "stdout",
     "output_type": "stream",
     "text": [
      "cost = 5.14554\n"
     ]
    }
   ],
   "source": [
    "tf.reset_default_graph()\n",
    "\n",
    "with tf.Session() as sess:\n",
    "    np.random.seed(1)\n",
    "    X, Y = create_placeholders(64, 64, 3, 10)\n",
    "    parameters = initialize_parameters()\n",
    "    Z3 = forward_propagation(X, parameters)\n",
    "    cost = compute_cost(Z3, Y)\n",
    "    init = tf.global_variables_initializer()\n",
    "    sess.run(init)\n",
    "    a = sess.run(cost, {X: np.random.randn(4, 64, 64, 3), Y: np.random.randn(4, 10)})\n",
    "    print(\"cost = \" + str(a))"
   ]
  },
  {
   "cell_type": "code",
   "execution_count": 21,
   "id": "e565f216",
   "metadata": {},
   "outputs": [],
   "source": [
    "# 建立CNN训练模型\n",
    "\n",
    "def model(X_train, Y_train, X_test, Y_test, learning_rate=0.002,\n",
    "          num_epochs=70, minibatch_size = 100, print_cost = True):\n",
    "    ops.reset_default_graph()\n",
    "    tf.set_random_seed(1)\n",
    "    seed = 3\n",
    "    (m, n_H0, n_W0, n_C0) = X_train.shape\n",
    "    n_y = Y_train.shape[1]\n",
    "    costs = []\n",
    "    \n",
    "    # 占位符生成争取的shape\n",
    "    X, Y = create_placeholders(n_H0, n_W0, n_C0, n_y)\n",
    "    # 初始化参数\n",
    "    parameters = initialize_parameters()\n",
    "    # 正向传播\n",
    "    Z3 = forward_propagation(X, parameters)\n",
    "    # 计算代价函数\n",
    "    cost = compute_cost(Z3, Y)\n",
    "    \n",
    "    # 选择优化器\n",
    "    optimizer = tf.train.AdamOptimizer(learning_rate=learning_rate).minimize(cost)\n",
    "    # 初始化参数\n",
    "    init = tf.global_variables_initializer()\n",
    "    # 保存训练的数据\n",
    "    saver = tf.train.Saver()\n",
    "    # 记录当前时间用以计算训练所用的时间\n",
    "    from time import time\n",
    "    start_time = time()\n",
    "    \n",
    "    with tf.Session() as sess:\n",
    "        sess.run(init)\n",
    "        \n",
    "        for epoch in range(num_epochs):\n",
    "            minibatch_cost = 0.\n",
    "            num_minibatches = int(m / minibatch_size)\n",
    "            seed = seed+1\n",
    "            minibatches = random_mini_batches(X_train, Y_train, minibatch_size, seed)\n",
    "            \n",
    "            for minibatch in minibatches:\n",
    "                (minibatch_X, minibatch_Y) = minibatch\n",
    "                _, temp_cost = sess.run([optimizer, cost],\n",
    "                                    feed_dict={X: minibatch_X, Y: minibatch_Y})\n",
    "                \n",
    "                minibatch_cost += temp_cost / num_minibatches\n",
    "            \n",
    "            if print_cost == True and epoch % 5 == 0:\n",
    "                print(\"Cost after epoch %i: %f\" % (epoch, minibatch_cost))\n",
    "            if print_cost == True and epoch % 1 == 0:\n",
    "                costs.append(minibatch_cost)\n",
    "                \n",
    "            # 保存参数\n",
    "            if epoch == num_epochs-1:\n",
    "                saver.save(sess, 'params.ckpt')\n",
    "                \n",
    "        # 画图\n",
    "        plt.plot(np.squeeze(costs))\n",
    "        plt.ylabel('cost')\n",
    "        plt.xlabel('iterations (per tens)')\n",
    "        plt.title(\"Learning rate = \" + str(learning_rate))\n",
    "        plt.show()\n",
    "        \n",
    "        predict_op = tf.argmax(Z3, 1)\n",
    "        correct_prediction = tf.equal(predict_op, tf.argmax(Y, 1))\n",
    "        \n",
    "        # 计算测试集的正确率\n",
    "        accuracy = tf.reduce_mean(tf.cast(correct_prediction, \"float\"))\n",
    "        print(accuracy)\n",
    "        train_accuracy = accuracy.eval({X: X_train, Y: Y_train})\n",
    "        test_accuracy = accuracy.eval({X: X_test, Y: Y_test})\n",
    "        print(\"Train Accuracy: \", train_accuracy)\n",
    "        print(\"Test Accuracy: \", test_accuracy)\n",
    "        \n",
    "        duration = time() - start_time\n",
    "        print(\"持续时间: {:.2f}\".format(duration))\n",
    "        \n",
    "        return train_accuracy, test_accuracy, parameters"
   ]
  },
  {
   "cell_type": "markdown",
   "id": "0a923ad3",
   "metadata": {},
   "source": [
    "## 下面就可以开始训练我们的模型了"
   ]
  },
  {
   "cell_type": "code",
   "execution_count": 22,
   "id": "7a8e4625",
   "metadata": {},
   "outputs": [
    {
     "name": "stdout",
     "output_type": "stream",
     "text": [
      "Cost after epoch 0: 2.634761\n",
      "Cost after epoch 5: 2.382971\n",
      "Cost after epoch 10: 1.399608\n",
      "Cost after epoch 15: 0.710085\n",
      "Cost after epoch 20: 0.471466\n",
      "Cost after epoch 25: 0.364338\n",
      "Cost after epoch 30: 0.291296\n",
      "Cost after epoch 35: 0.240671\n",
      "Cost after epoch 40: 0.203583\n",
      "Cost after epoch 45: 0.180217\n",
      "Cost after epoch 50: 0.151245\n",
      "Cost after epoch 55: 0.137086\n",
      "Cost after epoch 60: 0.123121\n",
      "Cost after epoch 65: 0.110039\n"
     ]
    },
    {
     "data": {
      "image/png": "[encoded data removed]",
      "text/plain": [
       "<Figure size 432x288 with 1 Axes>"
      ]
     },
     "metadata": {
      "needs_background": "light"
     },
     "output_type": "display_data"
    },
    {
     "name": "stdout",
     "output_type": "stream",
     "text": [
      "Tensor(\"Mean_1:0\", shape=(), dtype=float32)\n",
      "Train Accuracy:  0.9853333\n",
      "Test Accuracy:  0.96\n",
      "持续时间: 16.22\n"
     ]
    }
   ],
   "source": [
    "_, _, parameters = model(X_train, Y_train, X_test, Y_test)"
   ]
  },
  {
   "cell_type": "markdown",
   "id": "6a8a2db6",
   "metadata": {},
   "source": [
    "## 模型小结\n",
    "  其实这个模型还是有待优化的，训练出来的cost其实还是挺高的，但是在准确率上面已经足够高啦，不过调参数真的是一个好辛苦的过程...其实一开始我也有试过只用一个卷积层加一个全连接层来进行这次模型的训练，但是发现最后好像还是两层训练出来的准确度会稍微高一点，单纯的去掉第二层卷积其实反而让参数量变多了...尝试多次后我觉得还是这次的模型较为可以"
   ]
  },
  {
   "cell_type": "markdown",
   "id": "6a490233",
   "metadata": {},
   "source": [
    "## 使用训练好的模型来预测"
   ]
  },
  {
   "cell_type": "code",
   "execution_count": 23,
   "id": "1f451b08",
   "metadata": {},
   "outputs": [
    {
     "name": "stdout",
     "output_type": "stream",
     "text": [
      "259\n",
      "INFO:tensorflow:Restoring parameters from params.ckpt\n",
      "y = 4\n",
      "[[-15.431677   -25.883556   -26.134432     9.610826     0.95422196\n",
      "  -12.073983    -7.040877   -10.333881    -2.3618014   -7.231707  ]]\n",
      "predict y = 4\n"
     ]
    },
    {
     "data": {
      "image/png": "[encoded data removed]",
      "text/plain": [
       "<Figure size 432x288 with 1 Axes>"
      ]
     },
     "metadata": {
      "needs_background": "light"
     },
     "output_type": "display_data"
    }
   ],
   "source": [
    "index = np.random.randint(0, 1559)\n",
    "print(index)\n",
    "tf.reset_default_graph()\n",
    "\n",
    "# 进行预测\n",
    "with tf.Session() as sess:\n",
    "    np.random.seed(1)\n",
    "    X, Y = create_placeholders(64, 64, 3, 10)\n",
    "    parameters = initialize_parameters()\n",
    "    \n",
    "    init = tf.global_variables_initializer()\n",
    "    sess.run(init)\n",
    "    \n",
    "    variables = tf.global_variables()\n",
    "    saver = tf.train.Saver()\n",
    "    saver.restore(sess, 'params.ckpt')\n",
    "    \n",
    "    parametses = {variables[0], variables[1], variables[2]}\n",
    "    predict_result = forward_propagation(X, parameters)\n",
    "    \n",
    "    X_from_trainset = X_train[index].astype(np.float32)\n",
    "    X_from_trainset = np.reshape(X_from_trainset, [1,64,64,3])\n",
    "    Y_from_trainset = Y_train[index]\n",
    "    Y_from_trainset = np.reshape(Y_from_trainset, [1,10])\n",
    "    \n",
    "    plt.imshow(X_train_orig[index]/255)\n",
    "    print(\"y = \" + str(np.squeeze(Y_train_orig[:, index])+1))\n",
    "    \n",
    "    a = sess.run(predict_result, {X: X_from_trainset, Y: Y_from_trainset})\n",
    "    print(a)\n",
    "    predict_class = np.argmax(a, 1)\n",
    "    print(\"predict y = \" + str(np.squeeze(predict_class)+1))"
   ]
  },
  {
   "cell_type": "markdown",
   "id": "bc9c369d",
   "metadata": {},
   "source": [
    "再来试试测试集"
   ]
  },
  {
   "cell_type": "code",
   "execution_count": 24,
   "id": "f1c57f3c",
   "metadata": {},
   "outputs": [
    {
     "name": "stdout",
     "output_type": "stream",
     "text": [
      "37\n",
      "INFO:tensorflow:Restoring parameters from params.ckpt\n",
      "y = 5\n",
      "[[ -9.64163    -9.190166   -7.1455536  -8.89494     2.7877991  -7.339204\n",
      "   -5.2353463 -22.659061   -8.14128   -10.771293 ]]\n",
      "predict y = 5\n"
     ]
    },
    {
     "data": {
      "image/png": "[encoded data removed]",
      "text/plain": [
       "<Figure size 432x288 with 1 Axes>"
      ]
     },
     "metadata": {
      "needs_background": "light"
     },
     "output_type": "display_data"
    }
   ],
   "source": [
    "tf.reset_default_graph()\n",
    "index = np.random.randint(0, 50)\n",
    "print(index)\n",
    "\n",
    "with tf.Session() as sess:\n",
    "    X, Y = create_placeholders(64, 64, 3, 10)\n",
    "    parameters = initialize_parameters()\n",
    "    \n",
    "    init = tf.global_variables_initializer()\n",
    "    sess.run(init)\n",
    "    \n",
    "    variables = tf.global_variables()\n",
    "    saver = tf.train.Saver()\n",
    "    saver.restore(sess, 'params.ckpt')\n",
    "    \n",
    "    parametses = {variables[0], variables[1], variables[2]}\n",
    "    predict_result = forward_propagation(X, parameters)\n",
    "    \n",
    "    X_from_testset = X_test[index].astype(np.float32)\n",
    "    X_from_testset = np.reshape(X_from_testset, [1,64,64,3])\n",
    "    Y_from_testset = Y_test[index]\n",
    "    Y_from_testset = np.reshape(Y_from_testset, [1,10])\n",
    "    \n",
    "    plt.imshow(X_test_orig[index]/255)\n",
    "    print(\"y = \" + str(np.squeeze(Y_test_orig[:, index])+1))\n",
    "    \n",
    "    a = sess.run(predict_result, {X: X_from_testset, Y: Y_from_testset})\n",
    "    print(a)\n",
    "    predict_class = np.argmax(a, 1)\n",
    "    print(\"predict y = \" + str(np.squeeze(predict_class) + 1))"
   ]
  },
  {
   "cell_type": "markdown",
   "id": "dc440ab8",
   "metadata": {},
   "source": [
    "最后让我们传入一张不属于训练集中的图片来预测"
   ]
  },
  {
   "cell_type": "code",
   "execution_count": 25,
   "id": "aa72f8b0",
   "metadata": {},
   "outputs": [
    {
     "name": "stdout",
     "output_type": "stream",
     "text": [
      "INFO:tensorflow:Restoring parameters from params.ckpt\n",
      "[[ -7.411972   -6.2518044   0.6225028 -30.846403   -3.0479827 -23.049612\n",
      "   -1.4706249 -34.27453   -30.234184  -32.003307 ]]\n",
      "predict y = [3]\n"
     ]
    },
    {
     "data": {
      "image/png": "[encoded data removed]",
      "text/plain": [
       "<Figure size 432x288 with 1 Axes>"
      ]
     },
     "metadata": {
      "needs_background": "light"
     },
     "output_type": "display_data"
    }
   ],
   "source": [
    "tf.reset_default_graph()\n",
    "\n",
    "#load a picture taken by yourself\n",
    "my_image = Image.open('my_three.png').convert('RGB')\n",
    "my_image = my_image.resize((64,64))\n",
    "# display this picture\n",
    "plt.imshow(my_image)\n",
    "\n",
    "#prepare data\n",
    "X_my_image = np.array(my_image)/255. # normalization\n",
    "X_my_image = X_my_image.astype(np.float32)\n",
    "X_my_image = np.reshape(X_my_image,[1,64,64,3])\n",
    "\n",
    "with tf.Session() as sess:\n",
    "    np.random.seed(1)\n",
    "    X, Y = create_placeholders(64, 64, 3, 6)\n",
    "    parameters = initialize_parameters()\n",
    "    \n",
    "    #initialize parameters\n",
    "    init = tf.global_variables_initializer()\n",
    "    sess.run(init)\n",
    "    \n",
    "    #restore parameters\n",
    "    variables = tf.global_variables()\n",
    "    saver = tf.train.Saver()\n",
    "    saver.restore(sess,'params.ckpt')\n",
    "    \n",
    "    #predict\n",
    "    parametses = {variables[0],variables[1],variables[2]}\n",
    "    predict_result = forward_propagation(X, parameters)\n",
    "    \n",
    "    #display predict result\n",
    "    a = sess.run(predict_result, {X: X_my_image, Y: [[1,0,0,0,0,0]]})\n",
    "    print(a)\n",
    "    predict_class = np.argmax(a, 1)\n",
    "    print(\"predict y = \" + str(predict_class+1))"
   ]
  },
  {
   "cell_type": "markdown",
   "id": "810e07cb",
   "metadata": {},
   "source": [
    "再试一张试试"
   ]
  },
  {
   "cell_type": "code",
   "execution_count": 26,
   "id": "efd24579",
   "metadata": {},
   "outputs": [
    {
     "name": "stdout",
     "output_type": "stream",
     "text": [
      "INFO:tensorflow:Restoring parameters from params.ckpt\n",
      "[[ -8.178726    -9.648932    -2.176549   -27.035858    -2.9643908\n",
      "  -22.892422    -0.40961075 -28.254532   -23.636677   -27.5867    ]]\n",
      "predict y = [7]\n"
     ]
    },
    {
     "data": {
      "image/png": "[encoded data removed]",
      "text/plain": [
       "<Figure size 432x288 with 1 Axes>"
      ]
     },
     "metadata": {
      "needs_background": "light"
     },
     "output_type": "display_data"
    }
   ],
   "source": [
    "tf.reset_default_graph()\n",
    "\n",
    "#load a picture taken by yourself\n",
    "my_image = Image.open('my_four.jpg').convert('RGB')\n",
    "my_image = my_image.resize((64,64))\n",
    "# display this picture\n",
    "plt.imshow(my_image)\n",
    "\n",
    "#prepare data\n",
    "X_my_image = np.array(my_image)/255. # normalization\n",
    "X_my_image = X_my_image.astype(np.float32)\n",
    "X_my_image = np.reshape(X_my_image,[1,64,64,3])\n",
    "\n",
    "with tf.Session() as sess:\n",
    "    np.random.seed(1)\n",
    "    X, Y = create_placeholders(64, 64, 3, 6)\n",
    "    parameters = initialize_parameters()\n",
    "    \n",
    "    #initialize parameters\n",
    "    init = tf.global_variables_initializer()\n",
    "    sess.run(init)\n",
    "    \n",
    "    #restore parameters\n",
    "    variables = tf.global_variables()\n",
    "    saver = tf.train.Saver()\n",
    "    saver.restore(sess,'params.ckpt')\n",
    "    \n",
    "    #predict\n",
    "    parametses = {variables[0],variables[1],variables[2]}\n",
    "    predict_result = forward_propagation(X, parameters)\n",
    "    \n",
    "    #display predict result\n",
    "    a = sess.run(predict_result, {X: X_my_image, Y: [[1,0,0,0,0,0]]})\n",
    "    print(a)\n",
    "    predict_class = np.argmax(a, 1)\n",
    "    print(\"predict y = \" + str(predict_class+1))"
   ]
  },
  {
   "cell_type": "markdown",
   "id": "776baff8",
   "metadata": {},
   "source": [
    "可以看到这次的预测就有了一点小偏差...因此模型还是有值得优化的地方的"
   ]
  }
 ],
 "metadata": {
  "kernelspec": {
   "display_name": "Python 3",
   "language": "python",
   "name": "python3"
  },
  "language_info": {
   "codemirror_mode": {
    "name": "ipython",
    "version": 3
   },
   "file_extension": ".py",
   "mimetype": "text/x-python",
   "name": "python",
   "nbconvert_exporter": "python",
   "pygments_lexer": "ipython3",
   "version": "3.7.10"
  }
 },
 "nbformat": 4,
 "nbformat_minor": 5
}
