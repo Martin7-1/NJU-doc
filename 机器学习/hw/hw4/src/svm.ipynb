{
 "cells": [
  {
   "cell_type": "code",
   "execution_count": 4,
   "outputs": [],
   "source": [
    "import numpy as np\n",
    "from sklearn.datasets import load_breast_cancer\n",
    "from sklearn.svm import SVC\n",
    "from sklearn.model_selection import train_test_split\n",
    "from sklearn.preprocessing import StandardScaler"
   ],
   "metadata": {
    "collapsed": false,
    "pycharm": {
     "name": "#%%\n"
    }
   }
  },
  {
   "cell_type": "code",
   "execution_count": 5,
   "outputs": [],
   "source": [
    "# cancer数据集特征\n",
    "# 这里的数据集其实就是 ../data/data.csv 只是 sklearn 有提供直接的加载方式\n",
    "# 都是 Breast Cancer Wisconsin (Diagnostic) Data Set 这个数据集\n",
    "cancer = load_breast_cancer()\n",
    "cancer_data = cancer['data']\n",
    "cancer_target = cancer['target']\n",
    "cancer_names = cancer['feature_names']\n",
    "\n",
    "# 将数据划分为训练集测试集\n",
    "cancer_data_train, cancer_data_test, cancer_target_train, cancer_target_test = train_test_split(cancer_data,\n",
    "                                                                                                cancer_target,\n",
    "                                                                                                test_size=0.2,\n",
    "                                                                                                random_state=22)"
   ],
   "metadata": {
    "collapsed": false,
    "pycharm": {
     "name": "#%%\n"
    }
   }
  },
  {
   "cell_type": "code",
   "execution_count": 6,
   "outputs": [],
   "source": [
    "# 数据标准化\n",
    "stdScaler = StandardScaler().fit(cancer_data_train)\n",
    "cancer_trainStd = stdScaler.transform(cancer_data_train)\n",
    "cancer_testStd = stdScaler.transform(cancer_data_test)"
   ],
   "metadata": {
    "collapsed": false,
    "pycharm": {
     "name": "#%%\n"
    }
   }
  },
  {
   "cell_type": "code",
   "execution_count": 8,
   "outputs": [
    {
     "name": "stdout",
     "output_type": "stream",
     "text": [
      "预测前20个结果为：\n",
      " [1 0 0 0 1 1 1 1 1 1 1 1 0 1 1 1 0 0 1 1]\n"
     ]
    }
   ],
   "source": [
    "# 使用 SVM 算法来进行训练\n",
    "svm = SVC().fit(cancer_trainStd, cancer_target_train)\n",
    "# 测试集预测\n",
    "cancer_target_pred = svm.predict(cancer_testStd)\n",
    "print('预测前20个结果为：\\n', cancer_target_pred[:20])"
   ],
   "metadata": {
    "collapsed": false,
    "pycharm": {
     "name": "#%%\n"
    }
   }
  },
  {
   "cell_type": "code",
   "execution_count": 9,
   "outputs": [
    {
     "name": "stdout",
     "output_type": "stream",
     "text": [
      "预测对的结果数目为： 111\n",
      "预测错的的结果数目为： 3\n",
      "预测结果准确率为： 0.9736842105263158\n"
     ]
    }
   ],
   "source": [
    "# 求出预测和真实一样的数目\n",
    "true = np.sum(cancer_target_pred == cancer_target_test)\n",
    "print('预测对的结果数目为：', true)\n",
    "print('预测错的的结果数目为：', cancer_target_test.shape[0] - true)\n",
    "print('预测结果准确率为：', true / cancer_target_test.shape[0])"
   ],
   "metadata": {
    "collapsed": false,
    "pycharm": {
     "name": "#%%\n"
    }
   }
  },
  {
   "cell_type": "code",
   "execution_count": 11,
   "outputs": [
    {
     "name": "stdout",
     "output_type": "stream",
     "text": [
      "使用SVM预测breast_cancer数据的准确率为： 0.9736842105263158\n",
      "使用SVM预测breast_cancer数据的精确率为： 0.9594594594594594\n",
      "使用SVM预测breast_cancer数据的召回率为： 1.0\n",
      "使用SVM预测breast_cancer数据的F1值为： 0.9793103448275862\n",
      "使用SVM预测breast_cancer数据的Cohen’s Kappa系数为： 0.9432082364662903\n"
     ]
    }
   ],
   "source": [
    "from sklearn.metrics import accuracy_score, precision_score, recall_score, f1_score, cohen_kappa_score\n",
    "\n",
    "# 精确率和召回率的计算\n",
    "print('使用SVM预测breast_cancer数据的准确率为：', accuracy_score(cancer_target_test, cancer_target_pred))\n",
    "print('使用SVM预测breast_cancer数据的精确率为：', precision_score(cancer_target_test, cancer_target_pred))\n",
    "print('使用SVM预测breast_cancer数据的召回率为：', recall_score(cancer_target_test, cancer_target_pred))\n",
    "print('使用SVM预测breast_cancer数据的F1值为：', f1_score(cancer_target_test, cancer_target_pred))\n",
    "print('使用SVM预测breast_cancer数据的Cohen’s Kappa系数为：', cohen_kappa_score(cancer_target_test, cancer_target_pred))"
   ],
   "metadata": {
    "collapsed": false,
    "pycharm": {
     "name": "#%%\n"
    }
   }
  },
  {
   "cell_type": "code",
   "execution_count": 12,
   "outputs": [
    {
     "name": "stdout",
     "output_type": "stream",
     "text": [
      "使用SVM预测iris数据的分类报告为： \n",
      "               precision    recall  f1-score   support\n",
      "\n",
      "           0       1.00      0.93      0.96        43\n",
      "           1       0.96      1.00      0.98        71\n",
      "\n",
      "    accuracy                           0.97       114\n",
      "   macro avg       0.98      0.97      0.97       114\n",
      "weighted avg       0.97      0.97      0.97       114\n",
      "\n"
     ]
    }
   ],
   "source": [
    "from sklearn.metrics import classification_report\n",
    "\n",
    "print('使用SVM预测iris数据的分类报告为：', '\\n', classification_report(cancer_target_test, cancer_target_pred))"
   ],
   "metadata": {
    "collapsed": false,
    "pycharm": {
     "name": "#%%\n"
    }
   }
  },
  {
   "cell_type": "code",
   "execution_count": 13,
   "outputs": [
    {
     "data": {
      "text/plain": "<Figure size 1000x600 with 1 Axes>",
      "image/png": "[encoded data removed]"
     },
     "metadata": {},
     "output_type": "display_data"
    }
   ],
   "source": [
    "from sklearn.metrics import roc_curve\n",
    "import matplotlib.pyplot as plt\n",
    "\n",
    "%matplotlib inline\n",
    "\n",
    "# 求出ROC曲线的x轴和y轴\n",
    "fpr, tpr, thresholds = roc_curve(cancer_target_test, cancer_target_pred)\n",
    "plt.figure(figsize=(10, 6))\n",
    "plt.xlim(0, 1)  ##设定x轴的范围\n",
    "plt.ylim(0.0, 1.1)  ## 设定y轴的范围\n",
    "plt.xlabel('False Postive Rate')\n",
    "plt.ylabel('True Postive Rate')\n",
    "plt.plot(fpr, tpr, linewidth=2, linestyle=\"-\", color='red')\n",
    "plt.show()"
   ],
   "metadata": {
    "collapsed": false,
    "pycharm": {
     "name": "#%%\n"
    }
   }
  },
  {
   "cell_type": "code",
   "execution_count": null,
   "outputs": [],
   "source": [],
   "metadata": {
    "collapsed": false,
    "pycharm": {
     "name": "#%%\n"
    }
   }
  }
 ],
 "metadata": {
  "kernelspec": {
   "display_name": "Python 3",
   "language": "python",
   "name": "python3"
  },
  "language_info": {
   "codemirror_mode": {
    "name": "ipython",
    "version": 2
   },
   "file_extension": ".py",
   "mimetype": "text/x-python",
   "name": "python",
   "nbconvert_exporter": "python",
   "pygments_lexer": "ipython2",
   "version": "2.7.6"
  }
 },
 "nbformat": 4,
 "nbformat_minor": 0
}