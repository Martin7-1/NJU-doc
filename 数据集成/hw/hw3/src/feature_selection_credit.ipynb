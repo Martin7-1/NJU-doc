{
 "cells": [
  {
   "cell_type": "code",
   "execution_count": 1,
   "outputs": [],
   "source": [
    "import pandas as pd\n",
    "import numpy as np\n",
    "import os\n",
    "# plt.style.use('seaborn-colorblind')\n",
    "# %matplotlib inline\n",
    "from feature_selection import filter_method as ft"
   ],
   "metadata": {
    "collapsed": false,
    "pycharm": {
     "name": "#%%\n"
    }
   }
  },
  {
   "cell_type": "code",
   "execution_count": 2,
   "outputs": [
    {
     "data": {
      "text/plain": "                  uid  card_sts  is_withdrw  is_transfer  is_deposit  \\\n0  320926196803109398         0           0            0           0   \n1  320926196803109398         1           0            0           0   \n2  320926197009035373         1           0            0           0   \n3  320982198509015737         0           0            0           0   \n4  320982198509015737         1           0            0           0   \n\n   is_purchse  cred_limit  bankacct_bal  is_mob_bank  is_etc  ...  delay_bal  \\\n0           0     10000.0         0.000            0       0  ...        0.0   \n1           0      5000.0         0.000            1       1  ...        0.0   \n2           0     22905.0        88.330            1       1  ...        0.0   \n3           0     22905.0         0.000            0       0  ...        0.0   \n4           0     22905.0     16952.879            1       1  ...        0.0   \n\n   loan_amt   loan_bal  overdue_class  overdue_flag  credit_amt  owed_int_in  \\\n0  100000.0   90000.00              0             0    300000.0          0.0   \n1  100000.0   90000.00              0             0    300000.0          0.0   \n2   25000.0   25000.00              0             0    300000.0          0.0   \n3  608800.0  297378.48              0             0    620000.0          0.0   \n4  608800.0  297378.48              0             0    620000.0          0.0   \n\n   owed_int_out  guar_amount  credit_level  \n0           0.0        0.000            60  \n1           0.0        0.000            60  \n2           0.0        0.000            70  \n3           0.0      123.746            60  \n4           0.0      123.746            60  \n\n[5 rows x 24 columns]",
      "text/html": "<div>\n<style scoped>\n    .dataframe tbody tr th:only-of-type {\n        vertical-align: middle;\n    }\n\n    .dataframe tbody tr th {\n        vertical-align: top;\n    }\n\n    .dataframe thead th {\n        text-align: right;\n    }\n</style>\n<table border=\"1\" class=\"dataframe\">\n  <thead>\n    <tr style=\"text-align: right;\">\n      <th></th>\n      <th>uid</th>\n      <th>card_sts</th>\n      <th>is_withdrw</th>\n      <th>is_transfer</th>\n      <th>is_deposit</th>\n      <th>is_purchse</th>\n      <th>cred_limit</th>\n      <th>bankacct_bal</th>\n      <th>is_mob_bank</th>\n      <th>is_etc</th>\n      <th>...</th>\n      <th>delay_bal</th>\n      <th>loan_amt</th>\n      <th>loan_bal</th>\n      <th>overdue_class</th>\n      <th>overdue_flag</th>\n      <th>credit_amt</th>\n      <th>owed_int_in</th>\n      <th>owed_int_out</th>\n      <th>guar_amount</th>\n      <th>credit_level</th>\n    </tr>\n  </thead>\n  <tbody>\n    <tr>\n      <th>0</th>\n      <td>320926196803109398</td>\n      <td>0</td>\n      <td>0</td>\n      <td>0</td>\n      <td>0</td>\n      <td>0</td>\n      <td>10000.0</td>\n      <td>0.000</td>\n      <td>0</td>\n      <td>0</td>\n      <td>...</td>\n      <td>0.0</td>\n      <td>100000.0</td>\n      <td>90000.00</td>\n      <td>0</td>\n      <td>0</td>\n      <td>300000.0</td>\n      <td>0.0</td>\n      <td>0.0</td>\n      <td>0.000</td>\n      <td>60</td>\n    </tr>\n    <tr>\n      <th>1</th>\n      <td>320926196803109398</td>\n      <td>1</td>\n      <td>0</td>\n      <td>0</td>\n      <td>0</td>\n      <td>0</td>\n      <td>5000.0</td>\n      <td>0.000</td>\n      <td>1</td>\n      <td>1</td>\n      <td>...</td>\n      <td>0.0</td>\n      <td>100000.0</td>\n      <td>90000.00</td>\n      <td>0</td>\n      <td>0</td>\n      <td>300000.0</td>\n      <td>0.0</td>\n      <td>0.0</td>\n      <td>0.000</td>\n      <td>60</td>\n    </tr>\n    <tr>\n      <th>2</th>\n      <td>320926197009035373</td>\n      <td>1</td>\n      <td>0</td>\n      <td>0</td>\n      <td>0</td>\n      <td>0</td>\n      <td>22905.0</td>\n      <td>88.330</td>\n      <td>1</td>\n      <td>1</td>\n      <td>...</td>\n      <td>0.0</td>\n      <td>25000.0</td>\n      <td>25000.00</td>\n      <td>0</td>\n      <td>0</td>\n      <td>300000.0</td>\n      <td>0.0</td>\n      <td>0.0</td>\n      <td>0.000</td>\n      <td>70</td>\n    </tr>\n    <tr>\n      <th>3</th>\n      <td>320982198509015737</td>\n      <td>0</td>\n      <td>0</td>\n      <td>0</td>\n      <td>0</td>\n      <td>0</td>\n      <td>22905.0</td>\n      <td>0.000</td>\n      <td>0</td>\n      <td>0</td>\n      <td>...</td>\n      <td>0.0</td>\n      <td>608800.0</td>\n      <td>297378.48</td>\n      <td>0</td>\n      <td>0</td>\n      <td>620000.0</td>\n      <td>0.0</td>\n      <td>0.0</td>\n      <td>123.746</td>\n      <td>60</td>\n    </tr>\n    <tr>\n      <th>4</th>\n      <td>320982198509015737</td>\n      <td>1</td>\n      <td>0</td>\n      <td>0</td>\n      <td>0</td>\n      <td>0</td>\n      <td>22905.0</td>\n      <td>16952.879</td>\n      <td>1</td>\n      <td>1</td>\n      <td>...</td>\n      <td>0.0</td>\n      <td>608800.0</td>\n      <td>297378.48</td>\n      <td>0</td>\n      <td>0</td>\n      <td>620000.0</td>\n      <td>0.0</td>\n      <td>0.0</td>\n      <td>123.746</td>\n      <td>60</td>\n    </tr>\n  </tbody>\n</table>\n<p>5 rows × 24 columns</p>\n</div>"
     },
     "execution_count": 2,
     "metadata": {},
     "output_type": "execute_result"
    }
   ],
   "source": [
    "df = pd.read_csv('./final_data.csv')\n",
    "df.head(5)"
   ],
   "metadata": {
    "collapsed": false,
    "pycharm": {
     "name": "#%%\n"
    }
   }
  },
  {
   "cell_type": "code",
   "execution_count": 3,
   "outputs": [
    {
     "data": {
      "text/plain": "                  uid  card_sts  is_withdrw  is_transfer  is_deposit  \\\n0  320926196803109398         0           0            0           0   \n1  320926196803109398         1           0            0           0   \n2  320926197009035373         1           0            0           0   \n3  320982198509015737         0           0            0           0   \n4  320982198509015737         1           0            0           0   \n\n   is_purchse  cred_limit  bankacct_bal  is_mob_bank  is_etc  ...   norm_bal  \\\n0           0     10000.0         0.000            0       0  ...   90000.00   \n1           0      5000.0         0.000            1       1  ...   90000.00   \n2           0     22905.0        88.330            1       1  ...   35000.00   \n3           0     22905.0         0.000            0       0  ...  567766.84   \n4           0     22905.0     16952.879            1       1  ...  567766.84   \n\n   delay_bal  loan_amt   loan_bal  overdue_class  overdue_flag  credit_amt  \\\n0        0.0  100000.0   90000.00              0             0    300000.0   \n1        0.0  100000.0   90000.00              0             0    300000.0   \n2        0.0   25000.0   25000.00              0             0    300000.0   \n3        0.0  608800.0  297378.48              0             0    620000.0   \n4        0.0  608800.0  297378.48              0             0    620000.0   \n\n   owed_int_in  owed_int_out  guar_amount  \n0          0.0           0.0        0.000  \n1          0.0           0.0        0.000  \n2          0.0           0.0        0.000  \n3          0.0           0.0      123.746  \n4          0.0           0.0      123.746  \n\n[5 rows x 23 columns]",
      "text/html": "<div>\n<style scoped>\n    .dataframe tbody tr th:only-of-type {\n        vertical-align: middle;\n    }\n\n    .dataframe tbody tr th {\n        vertical-align: top;\n    }\n\n    .dataframe thead th {\n        text-align: right;\n    }\n</style>\n<table border=\"1\" class=\"dataframe\">\n  <thead>\n    <tr style=\"text-align: right;\">\n      <th></th>\n      <th>uid</th>\n      <th>card_sts</th>\n      <th>is_withdrw</th>\n      <th>is_transfer</th>\n      <th>is_deposit</th>\n      <th>is_purchse</th>\n      <th>cred_limit</th>\n      <th>bankacct_bal</th>\n      <th>is_mob_bank</th>\n      <th>is_etc</th>\n      <th>...</th>\n      <th>norm_bal</th>\n      <th>delay_bal</th>\n      <th>loan_amt</th>\n      <th>loan_bal</th>\n      <th>overdue_class</th>\n      <th>overdue_flag</th>\n      <th>credit_amt</th>\n      <th>owed_int_in</th>\n      <th>owed_int_out</th>\n      <th>guar_amount</th>\n    </tr>\n  </thead>\n  <tbody>\n    <tr>\n      <th>0</th>\n      <td>320926196803109398</td>\n      <td>0</td>\n      <td>0</td>\n      <td>0</td>\n      <td>0</td>\n      <td>0</td>\n      <td>10000.0</td>\n      <td>0.000</td>\n      <td>0</td>\n      <td>0</td>\n      <td>...</td>\n      <td>90000.00</td>\n      <td>0.0</td>\n      <td>100000.0</td>\n      <td>90000.00</td>\n      <td>0</td>\n      <td>0</td>\n      <td>300000.0</td>\n      <td>0.0</td>\n      <td>0.0</td>\n      <td>0.000</td>\n    </tr>\n    <tr>\n      <th>1</th>\n      <td>320926196803109398</td>\n      <td>1</td>\n      <td>0</td>\n      <td>0</td>\n      <td>0</td>\n      <td>0</td>\n      <td>5000.0</td>\n      <td>0.000</td>\n      <td>1</td>\n      <td>1</td>\n      <td>...</td>\n      <td>90000.00</td>\n      <td>0.0</td>\n      <td>100000.0</td>\n      <td>90000.00</td>\n      <td>0</td>\n      <td>0</td>\n      <td>300000.0</td>\n      <td>0.0</td>\n      <td>0.0</td>\n      <td>0.000</td>\n    </tr>\n    <tr>\n      <th>2</th>\n      <td>320926197009035373</td>\n      <td>1</td>\n      <td>0</td>\n      <td>0</td>\n      <td>0</td>\n      <td>0</td>\n      <td>22905.0</td>\n      <td>88.330</td>\n      <td>1</td>\n      <td>1</td>\n      <td>...</td>\n      <td>35000.00</td>\n      <td>0.0</td>\n      <td>25000.0</td>\n      <td>25000.00</td>\n      <td>0</td>\n      <td>0</td>\n      <td>300000.0</td>\n      <td>0.0</td>\n      <td>0.0</td>\n      <td>0.000</td>\n    </tr>\n    <tr>\n      <th>3</th>\n      <td>320982198509015737</td>\n      <td>0</td>\n      <td>0</td>\n      <td>0</td>\n      <td>0</td>\n      <td>0</td>\n      <td>22905.0</td>\n      <td>0.000</td>\n      <td>0</td>\n      <td>0</td>\n      <td>...</td>\n      <td>567766.84</td>\n      <td>0.0</td>\n      <td>608800.0</td>\n      <td>297378.48</td>\n      <td>0</td>\n      <td>0</td>\n      <td>620000.0</td>\n      <td>0.0</td>\n      <td>0.0</td>\n      <td>123.746</td>\n    </tr>\n    <tr>\n      <th>4</th>\n      <td>320982198509015737</td>\n      <td>1</td>\n      <td>0</td>\n      <td>0</td>\n      <td>0</td>\n      <td>0</td>\n      <td>22905.0</td>\n      <td>16952.879</td>\n      <td>1</td>\n      <td>1</td>\n      <td>...</td>\n      <td>567766.84</td>\n      <td>0.0</td>\n      <td>608800.0</td>\n      <td>297378.48</td>\n      <td>0</td>\n      <td>0</td>\n      <td>620000.0</td>\n      <td>0.0</td>\n      <td>0.0</td>\n      <td>123.746</td>\n    </tr>\n  </tbody>\n</table>\n<p>5 rows × 23 columns</p>\n</div>"
     },
     "execution_count": 3,
     "metadata": {},
     "output_type": "execute_result"
    }
   ],
   "source": [
    "x = df.iloc[:, 0:-1]\n",
    "x.head(5)"
   ],
   "metadata": {
    "collapsed": false,
    "pycharm": {
     "name": "#%%\n"
    }
   }
  },
  {
   "cell_type": "code",
   "execution_count": 4,
   "outputs": [
    {
     "data": {
      "text/plain": "0    60\n1    60\n2    70\n3    60\n4    60\nName: credit_level, dtype: int64"
     },
     "execution_count": 4,
     "metadata": {},
     "output_type": "execute_result"
    }
   ],
   "source": [
    "y = df.iloc[:, -1]\n",
    "y.head(5)"
   ],
   "metadata": {
    "collapsed": false,
    "pycharm": {
     "name": "#%%\n"
    }
   }
  },
  {
   "cell_type": "code",
   "execution_count": 5,
   "outputs": [
    {
     "name": "stdout",
     "output_type": "stream",
     "text": [
      "8  variables are found to be almost constant\n"
     ]
    },
    {
     "data": {
      "text/plain": "['is_deposit',\n 'bad_bal',\n 'due_intr',\n 'delay_bal',\n 'overdue_class',\n 'overdue_flag',\n 'owed_int_in',\n 'owed_int_out']"
     },
     "execution_count": 5,
     "metadata": {},
     "output_type": "execute_result"
    }
   ],
   "source": [
    "# filter_method: 剔除常量，因为这些特征对于 y 值没有任何的影响\n",
    "constant_feature = ft.constant_feature_detect(x, threshold=0.9)\n",
    "constant_feature"
   ],
   "metadata": {
    "collapsed": false,
    "pycharm": {
     "name": "#%%\n"
    }
   }
  },
  {
   "cell_type": "code",
   "execution_count": 6,
   "outputs": [
    {
     "data": {
      "text/plain": "   card_sts  is_withdrw  is_transfer  is_purchse  cred_limit  bankacct_bal  \\\n0         0           0            0           0     10000.0         0.000   \n1         1           0            0           0      5000.0         0.000   \n2         1           0            0           0     22905.0        88.330   \n3         0           0            0           0     22905.0         0.000   \n4         1           0            0           0     22905.0     16952.879   \n\n   is_mob_bank  is_etc    all_bal   norm_bal  loan_amt   loan_bal  credit_amt  \\\n0            0       0   90000.00   90000.00  100000.0   90000.00    300000.0   \n1            1       1   90000.00   90000.00  100000.0   90000.00    300000.0   \n2            1       1   35000.00   35000.00   25000.0   25000.00    300000.0   \n3            0       0  567766.84  567766.84  608800.0  297378.48    620000.0   \n4            1       1  567766.84  567766.84  608800.0  297378.48    620000.0   \n\n   guar_amount  \n0        0.000  \n1        0.000  \n2        0.000  \n3      123.746  \n4      123.746  ",
      "text/html": "<div>\n<style scoped>\n    .dataframe tbody tr th:only-of-type {\n        vertical-align: middle;\n    }\n\n    .dataframe tbody tr th {\n        vertical-align: top;\n    }\n\n    .dataframe thead th {\n        text-align: right;\n    }\n</style>\n<table border=\"1\" class=\"dataframe\">\n  <thead>\n    <tr style=\"text-align: right;\">\n      <th></th>\n      <th>card_sts</th>\n      <th>is_withdrw</th>\n      <th>is_transfer</th>\n      <th>is_purchse</th>\n      <th>cred_limit</th>\n      <th>bankacct_bal</th>\n      <th>is_mob_bank</th>\n      <th>is_etc</th>\n      <th>all_bal</th>\n      <th>norm_bal</th>\n      <th>loan_amt</th>\n      <th>loan_bal</th>\n      <th>credit_amt</th>\n      <th>guar_amount</th>\n    </tr>\n  </thead>\n  <tbody>\n    <tr>\n      <th>0</th>\n      <td>0</td>\n      <td>0</td>\n      <td>0</td>\n      <td>0</td>\n      <td>10000.0</td>\n      <td>0.000</td>\n      <td>0</td>\n      <td>0</td>\n      <td>90000.00</td>\n      <td>90000.00</td>\n      <td>100000.0</td>\n      <td>90000.00</td>\n      <td>300000.0</td>\n      <td>0.000</td>\n    </tr>\n    <tr>\n      <th>1</th>\n      <td>1</td>\n      <td>0</td>\n      <td>0</td>\n      <td>0</td>\n      <td>5000.0</td>\n      <td>0.000</td>\n      <td>1</td>\n      <td>1</td>\n      <td>90000.00</td>\n      <td>90000.00</td>\n      <td>100000.0</td>\n      <td>90000.00</td>\n      <td>300000.0</td>\n      <td>0.000</td>\n    </tr>\n    <tr>\n      <th>2</th>\n      <td>1</td>\n      <td>0</td>\n      <td>0</td>\n      <td>0</td>\n      <td>22905.0</td>\n      <td>88.330</td>\n      <td>1</td>\n      <td>1</td>\n      <td>35000.00</td>\n      <td>35000.00</td>\n      <td>25000.0</td>\n      <td>25000.00</td>\n      <td>300000.0</td>\n      <td>0.000</td>\n    </tr>\n    <tr>\n      <th>3</th>\n      <td>0</td>\n      <td>0</td>\n      <td>0</td>\n      <td>0</td>\n      <td>22905.0</td>\n      <td>0.000</td>\n      <td>0</td>\n      <td>0</td>\n      <td>567766.84</td>\n      <td>567766.84</td>\n      <td>608800.0</td>\n      <td>297378.48</td>\n      <td>620000.0</td>\n      <td>123.746</td>\n    </tr>\n    <tr>\n      <th>4</th>\n      <td>1</td>\n      <td>0</td>\n      <td>0</td>\n      <td>0</td>\n      <td>22905.0</td>\n      <td>16952.879</td>\n      <td>1</td>\n      <td>1</td>\n      <td>567766.84</td>\n      <td>567766.84</td>\n      <td>608800.0</td>\n      <td>297378.48</td>\n      <td>620000.0</td>\n      <td>123.746</td>\n    </tr>\n  </tbody>\n</table>\n</div>"
     },
     "execution_count": 6,
     "metadata": {},
     "output_type": "execute_result"
    }
   ],
   "source": [
    "x.drop(labels=constant_feature, axis=1, inplace=True)\n",
    "# uid 非数字，对 star_level 也没有影响，去除\n",
    "x.drop(labels='uid', axis=1, inplace=True)\n",
    "x.head(5)"
   ],
   "metadata": {
    "collapsed": false,
    "pycharm": {
     "name": "#%%\n"
    }
   }
  },
  {
   "cell_type": "code",
   "execution_count": 7,
   "outputs": [
    {
     "name": "stdout",
     "output_type": "stream",
     "text": [
      "     feature1     feature2      corr\n",
      "0  is_withdrw  is_transfer  0.999112\n",
      "4  is_withdrw   is_purchse  0.987522 \n",
      "\n",
      "    feature1    feature2      corr\n",
      "2   norm_bal     all_bal  0.993082\n",
      "15  norm_bal    loan_bal  0.809665\n",
      "20  norm_bal  credit_amt  0.764720\n",
      "25  norm_bal    loan_amt  0.748397 \n",
      "\n"
     ]
    }
   ],
   "source": [
    "# 计算相关系数，相关系数大于 0.7 的特征可以删除\n",
    "corr = ft.corr_feature_detect(data=x, threshold=0.7)\n",
    "for i in corr:\n",
    "    print(i, '\\n')"
   ],
   "metadata": {
    "collapsed": false,
    "pycharm": {
     "name": "#%%\n"
    }
   }
  },
  {
   "cell_type": "code",
   "execution_count": 8,
   "outputs": [],
   "source": [
    "corr_columns = ['is_withdrw', 'norm_bal']\n",
    "x.drop(columns=corr_columns, axis=1, inplace=True)"
   ],
   "metadata": {
    "collapsed": false,
    "pycharm": {
     "name": "#%%\n"
    }
   }
  },
  {
   "cell_type": "code",
   "execution_count": 9,
   "outputs": [
    {
     "data": {
      "text/plain": "           index        VIF\n0       card_sts   1.969386\n1    is_transfer  45.304401\n2     is_purchse  45.286027\n3     cred_limit   2.437820\n4   bankacct_bal   1.254968\n5    is_mob_bank   2.533707\n6         is_etc   3.070659\n7        all_bal   7.815197\n8       loan_amt  23.028272\n9       loan_bal  14.743578\n10    credit_amt  14.988255\n11   guar_amount   2.411138",
      "text/html": "<div>\n<style scoped>\n    .dataframe tbody tr th:only-of-type {\n        vertical-align: middle;\n    }\n\n    .dataframe tbody tr th {\n        vertical-align: top;\n    }\n\n    .dataframe thead th {\n        text-align: right;\n    }\n</style>\n<table border=\"1\" class=\"dataframe\">\n  <thead>\n    <tr style=\"text-align: right;\">\n      <th></th>\n      <th>index</th>\n      <th>VIF</th>\n    </tr>\n  </thead>\n  <tbody>\n    <tr>\n      <th>0</th>\n      <td>card_sts</td>\n      <td>1.969386</td>\n    </tr>\n    <tr>\n      <th>1</th>\n      <td>is_transfer</td>\n      <td>45.304401</td>\n    </tr>\n    <tr>\n      <th>2</th>\n      <td>is_purchse</td>\n      <td>45.286027</td>\n    </tr>\n    <tr>\n      <th>3</th>\n      <td>cred_limit</td>\n      <td>2.437820</td>\n    </tr>\n    <tr>\n      <th>4</th>\n      <td>bankacct_bal</td>\n      <td>1.254968</td>\n    </tr>\n    <tr>\n      <th>5</th>\n      <td>is_mob_bank</td>\n      <td>2.533707</td>\n    </tr>\n    <tr>\n      <th>6</th>\n      <td>is_etc</td>\n      <td>3.070659</td>\n    </tr>\n    <tr>\n      <th>7</th>\n      <td>all_bal</td>\n      <td>7.815197</td>\n    </tr>\n    <tr>\n      <th>8</th>\n      <td>loan_amt</td>\n      <td>23.028272</td>\n    </tr>\n    <tr>\n      <th>9</th>\n      <td>loan_bal</td>\n      <td>14.743578</td>\n    </tr>\n    <tr>\n      <th>10</th>\n      <td>credit_amt</td>\n      <td>14.988255</td>\n    </tr>\n    <tr>\n      <th>11</th>\n      <td>guar_amount</td>\n      <td>2.411138</td>\n    </tr>\n  </tbody>\n</table>\n</div>"
     },
     "execution_count": 9,
     "metadata": {},
     "output_type": "execute_result"
    }
   ],
   "source": [
    "# 计算 VIF 共线性，共线性大于 0.7 的特征删除\n",
    "vif = ft.calc_VIF(x)\n",
    "vif.head(30)"
   ],
   "metadata": {
    "collapsed": false,
    "pycharm": {
     "name": "#%%\n"
    }
   }
  },
  {
   "cell_type": "code",
   "execution_count": 10,
   "outputs": [],
   "source": [
    "# is_transfer、is_purchse、共线性太强，剔除\n",
    "vif_columns = ['is_transfer', 'is_purchse']\n",
    "x.drop(columns=vif_columns, axis=1, inplace=True)"
   ],
   "metadata": {
    "collapsed": false,
    "pycharm": {
     "name": "#%%\n"
    }
   }
  },
  {
   "cell_type": "code",
   "execution_count": 11,
   "outputs": [
    {
     "name": "stdout",
     "output_type": "stream",
     "text": [
      "Index(['card_sts', 'cred_limit', 'bankacct_bal', 'all_bal', 'loan_amt',\n",
      "       'loan_bal', 'credit_amt', 'guar_amount'],\n",
      "      dtype='object')\n"
     ]
    }
   ],
   "source": [
    "# 互信息衡量选择最好的 80% 特征\n",
    "mi = ft.mutual_info(X=x, y=y, select_k=0.8)\n",
    "print(mi)"
   ],
   "metadata": {
    "collapsed": false,
    "pycharm": {
     "name": "#%%\n"
    }
   }
  },
  {
   "cell_type": "code",
   "execution_count": 12,
   "outputs": [
    {
     "data": {
      "text/plain": "   card_sts  cred_limit  bankacct_bal    all_bal  loan_amt   loan_bal  \\\n0         0     10000.0         0.000   90000.00  100000.0   90000.00   \n1         1      5000.0         0.000   90000.00  100000.0   90000.00   \n2         1     22905.0        88.330   35000.00   25000.0   25000.00   \n3         0     22905.0         0.000  567766.84  608800.0  297378.48   \n4         1     22905.0     16952.879  567766.84  608800.0  297378.48   \n\n   credit_amt  guar_amount  \n0    300000.0        0.000  \n1    300000.0        0.000  \n2    300000.0        0.000  \n3    620000.0      123.746  \n4    620000.0      123.746  ",
      "text/html": "<div>\n<style scoped>\n    .dataframe tbody tr th:only-of-type {\n        vertical-align: middle;\n    }\n\n    .dataframe tbody tr th {\n        vertical-align: top;\n    }\n\n    .dataframe thead th {\n        text-align: right;\n    }\n</style>\n<table border=\"1\" class=\"dataframe\">\n  <thead>\n    <tr style=\"text-align: right;\">\n      <th></th>\n      <th>card_sts</th>\n      <th>cred_limit</th>\n      <th>bankacct_bal</th>\n      <th>all_bal</th>\n      <th>loan_amt</th>\n      <th>loan_bal</th>\n      <th>credit_amt</th>\n      <th>guar_amount</th>\n    </tr>\n  </thead>\n  <tbody>\n    <tr>\n      <th>0</th>\n      <td>0</td>\n      <td>10000.0</td>\n      <td>0.000</td>\n      <td>90000.00</td>\n      <td>100000.0</td>\n      <td>90000.00</td>\n      <td>300000.0</td>\n      <td>0.000</td>\n    </tr>\n    <tr>\n      <th>1</th>\n      <td>1</td>\n      <td>5000.0</td>\n      <td>0.000</td>\n      <td>90000.00</td>\n      <td>100000.0</td>\n      <td>90000.00</td>\n      <td>300000.0</td>\n      <td>0.000</td>\n    </tr>\n    <tr>\n      <th>2</th>\n      <td>1</td>\n      <td>22905.0</td>\n      <td>88.330</td>\n      <td>35000.00</td>\n      <td>25000.0</td>\n      <td>25000.00</td>\n      <td>300000.0</td>\n      <td>0.000</td>\n    </tr>\n    <tr>\n      <th>3</th>\n      <td>0</td>\n      <td>22905.0</td>\n      <td>0.000</td>\n      <td>567766.84</td>\n      <td>608800.0</td>\n      <td>297378.48</td>\n      <td>620000.0</td>\n      <td>123.746</td>\n    </tr>\n    <tr>\n      <th>4</th>\n      <td>1</td>\n      <td>22905.0</td>\n      <td>16952.879</td>\n      <td>567766.84</td>\n      <td>608800.0</td>\n      <td>297378.48</td>\n      <td>620000.0</td>\n      <td>123.746</td>\n    </tr>\n  </tbody>\n</table>\n</div>"
     },
     "execution_count": 12,
     "metadata": {},
     "output_type": "execute_result"
    }
   ],
   "source": [
    "new_x = x[['card_sts', 'cred_limit', 'bankacct_bal', 'all_bal', 'loan_amt', 'loan_bal', 'credit_amt', 'guar_amount']]\n",
    "new_x.head(5)"
   ],
   "metadata": {
    "collapsed": false,
    "pycharm": {
     "name": "#%%\n"
    }
   }
  },
  {
   "cell_type": "code",
   "execution_count": 13,
   "outputs": [],
   "source": [
    "ans = pd.concat([new_x, y], axis=1)\n",
    "ans.to_csv('new_credit_data.csv', header=True, index=False, sep=',')"
   ],
   "metadata": {
    "collapsed": false,
    "pycharm": {
     "name": "#%%\n"
    }
   }
  },
  {
   "cell_type": "code",
   "execution_count": null,
   "outputs": [],
   "source": [],
   "metadata": {
    "collapsed": false,
    "pycharm": {
     "name": "#%%\n"
    }
   }
  }
 ],
 "metadata": {
  "kernelspec": {
   "display_name": "Python 3",
   "language": "python",
   "name": "python3"
  },
  "language_info": {
   "codemirror_mode": {
    "name": "ipython",
    "version": 2
   },
   "file_extension": ".py",
   "mimetype": "text/x-python",
   "name": "python",
   "nbconvert_exporter": "python",
   "pygments_lexer": "ipython2",
   "version": "2.7.6"
  }
 },
 "nbformat": 4,
 "nbformat_minor": 0
}