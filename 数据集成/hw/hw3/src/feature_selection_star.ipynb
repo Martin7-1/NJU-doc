{
 "cells": [
  {
   "cell_type": "code",
   "execution_count": 39,
   "outputs": [],
   "source": [
    "import pandas as pd\n",
    "import numpy as np\n",
    "import os\n",
    "# plt.style.use('seaborn-colorblind')\n",
    "# %matplotlib inline\n",
    "from feature_selection import filter_method as ft"
   ],
   "metadata": {
    "collapsed": false,
    "pycharm": {
     "name": "#%%\n"
    }
   }
  },
  {
   "cell_type": "code",
   "execution_count": 40,
   "outputs": [
    {
     "data": {
      "text/plain": "                  uid   all_bal  avg_mth_x  avg_qur_x  avg_year_x   sa_bal  \\\n0  330801199010011879      4.42       0.53        0.0        4.42     4.42   \n1  320982199302235614     20.19       2.41        0.0       20.19    20.19   \n2  320982199003129328  60281.80    7197.83        0.0    57871.58   281.80   \n3  320925196507290894   4364.46     521.13        0.0     8505.26  4364.46   \n4  320721198511044525     29.72       3.55        0.0      214.09    29.72   \n\n    td_bal  fin_bal  sa_crd_bal  td_crd_bal  ...  deps_type  acct_sts  \\\n0      0.0      0.0        4.42         0.0  ...          0         0   \n1      0.0      0.0       20.19         0.0  ...          0         0   \n2  60000.0      0.0      281.80         0.0  ...          0         0   \n3      0.0      0.0     4364.46         0.0  ...          0         0   \n4      0.0      0.0       29.72         0.0  ...          0         0   \n\n   frz_sts  stp_sts  acct_bal      bal  avg_mth_y  avg_qur_y  avg_year_y  \\\n0        0        0      4.42     4.42       0.53        0.0        4.42   \n1        0        0     20.19    20.19       2.41        0.0       20.19   \n2        0        0    281.80   281.80      33.65        0.0      267.92   \n3        0        0   4364.46  4364.46     521.13        0.0     8505.26   \n4        0        0     29.72    29.72       3.55        0.0      214.09   \n\n   star_level  \n0           1  \n1           1  \n2           3  \n3           2  \n4           1  \n\n[5 rows x 30 columns]",
      "text/html": "<div>\n<style scoped>\n    .dataframe tbody tr th:only-of-type {\n        vertical-align: middle;\n    }\n\n    .dataframe tbody tr th {\n        vertical-align: top;\n    }\n\n    .dataframe thead th {\n        text-align: right;\n    }\n</style>\n<table border=\"1\" class=\"dataframe\">\n  <thead>\n    <tr style=\"text-align: right;\">\n      <th></th>\n      <th>uid</th>\n      <th>all_bal</th>\n      <th>avg_mth_x</th>\n      <th>avg_qur_x</th>\n      <th>avg_year_x</th>\n      <th>sa_bal</th>\n      <th>td_bal</th>\n      <th>fin_bal</th>\n      <th>sa_crd_bal</th>\n      <th>td_crd_bal</th>\n      <th>...</th>\n      <th>deps_type</th>\n      <th>acct_sts</th>\n      <th>frz_sts</th>\n      <th>stp_sts</th>\n      <th>acct_bal</th>\n      <th>bal</th>\n      <th>avg_mth_y</th>\n      <th>avg_qur_y</th>\n      <th>avg_year_y</th>\n      <th>star_level</th>\n    </tr>\n  </thead>\n  <tbody>\n    <tr>\n      <th>0</th>\n      <td>330801199010011879</td>\n      <td>4.42</td>\n      <td>0.53</td>\n      <td>0.0</td>\n      <td>4.42</td>\n      <td>4.42</td>\n      <td>0.0</td>\n      <td>0.0</td>\n      <td>4.42</td>\n      <td>0.0</td>\n      <td>...</td>\n      <td>0</td>\n      <td>0</td>\n      <td>0</td>\n      <td>0</td>\n      <td>4.42</td>\n      <td>4.42</td>\n      <td>0.53</td>\n      <td>0.0</td>\n      <td>4.42</td>\n      <td>1</td>\n    </tr>\n    <tr>\n      <th>1</th>\n      <td>320982199302235614</td>\n      <td>20.19</td>\n      <td>2.41</td>\n      <td>0.0</td>\n      <td>20.19</td>\n      <td>20.19</td>\n      <td>0.0</td>\n      <td>0.0</td>\n      <td>20.19</td>\n      <td>0.0</td>\n      <td>...</td>\n      <td>0</td>\n      <td>0</td>\n      <td>0</td>\n      <td>0</td>\n      <td>20.19</td>\n      <td>20.19</td>\n      <td>2.41</td>\n      <td>0.0</td>\n      <td>20.19</td>\n      <td>1</td>\n    </tr>\n    <tr>\n      <th>2</th>\n      <td>320982199003129328</td>\n      <td>60281.80</td>\n      <td>7197.83</td>\n      <td>0.0</td>\n      <td>57871.58</td>\n      <td>281.80</td>\n      <td>60000.0</td>\n      <td>0.0</td>\n      <td>281.80</td>\n      <td>0.0</td>\n      <td>...</td>\n      <td>0</td>\n      <td>0</td>\n      <td>0</td>\n      <td>0</td>\n      <td>281.80</td>\n      <td>281.80</td>\n      <td>33.65</td>\n      <td>0.0</td>\n      <td>267.92</td>\n      <td>3</td>\n    </tr>\n    <tr>\n      <th>3</th>\n      <td>320925196507290894</td>\n      <td>4364.46</td>\n      <td>521.13</td>\n      <td>0.0</td>\n      <td>8505.26</td>\n      <td>4364.46</td>\n      <td>0.0</td>\n      <td>0.0</td>\n      <td>4364.46</td>\n      <td>0.0</td>\n      <td>...</td>\n      <td>0</td>\n      <td>0</td>\n      <td>0</td>\n      <td>0</td>\n      <td>4364.46</td>\n      <td>4364.46</td>\n      <td>521.13</td>\n      <td>0.0</td>\n      <td>8505.26</td>\n      <td>2</td>\n    </tr>\n    <tr>\n      <th>4</th>\n      <td>320721198511044525</td>\n      <td>29.72</td>\n      <td>3.55</td>\n      <td>0.0</td>\n      <td>214.09</td>\n      <td>29.72</td>\n      <td>0.0</td>\n      <td>0.0</td>\n      <td>29.72</td>\n      <td>0.0</td>\n      <td>...</td>\n      <td>0</td>\n      <td>0</td>\n      <td>0</td>\n      <td>0</td>\n      <td>29.72</td>\n      <td>29.72</td>\n      <td>3.55</td>\n      <td>0.0</td>\n      <td>214.09</td>\n      <td>1</td>\n    </tr>\n  </tbody>\n</table>\n<p>5 rows × 30 columns</p>\n</div>"
     },
     "execution_count": 40,
     "metadata": {},
     "output_type": "execute_result"
    }
   ],
   "source": [
    "df = pd.read_csv('./data.csv')\n",
    "df.head(5)"
   ],
   "metadata": {
    "collapsed": false,
    "pycharm": {
     "name": "#%%\n"
    }
   }
  },
  {
   "cell_type": "code",
   "execution_count": 41,
   "outputs": [
    {
     "data": {
      "text/plain": "                  uid   all_bal  avg_mth_x  avg_qur_x  avg_year_x   sa_bal  \\\n0  330801199010011879      4.42       0.53        0.0        4.42     4.42   \n1  320982199302235614     20.19       2.41        0.0       20.19    20.19   \n2  320982199003129328  60281.80    7197.83        0.0    57871.58   281.80   \n3  320925196507290894   4364.46     521.13        0.0     8505.26  4364.46   \n4  320721198511044525     29.72       3.55        0.0      214.09    29.72   \n\n    td_bal  fin_bal  sa_crd_bal  td_crd_bal  ...  acct_char  deps_type  \\\n0      0.0      0.0        4.42         0.0  ...          0          0   \n1      0.0      0.0       20.19         0.0  ...          0          0   \n2  60000.0      0.0      281.80         0.0  ...          0          0   \n3      0.0      0.0     4364.46         0.0  ...          0          0   \n4      0.0      0.0       29.72         0.0  ...          0          0   \n\n   acct_sts  frz_sts  stp_sts  acct_bal      bal  avg_mth_y  avg_qur_y  \\\n0         0        0        0      4.42     4.42       0.53        0.0   \n1         0        0        0     20.19    20.19       2.41        0.0   \n2         0        0        0    281.80   281.80      33.65        0.0   \n3         0        0        0   4364.46  4364.46     521.13        0.0   \n4         0        0        0     29.72    29.72       3.55        0.0   \n\n   avg_year_y  \n0        4.42  \n1       20.19  \n2      267.92  \n3     8505.26  \n4      214.09  \n\n[5 rows x 29 columns]",
      "text/html": "<div>\n<style scoped>\n    .dataframe tbody tr th:only-of-type {\n        vertical-align: middle;\n    }\n\n    .dataframe tbody tr th {\n        vertical-align: top;\n    }\n\n    .dataframe thead th {\n        text-align: right;\n    }\n</style>\n<table border=\"1\" class=\"dataframe\">\n  <thead>\n    <tr style=\"text-align: right;\">\n      <th></th>\n      <th>uid</th>\n      <th>all_bal</th>\n      <th>avg_mth_x</th>\n      <th>avg_qur_x</th>\n      <th>avg_year_x</th>\n      <th>sa_bal</th>\n      <th>td_bal</th>\n      <th>fin_bal</th>\n      <th>sa_crd_bal</th>\n      <th>td_crd_bal</th>\n      <th>...</th>\n      <th>acct_char</th>\n      <th>deps_type</th>\n      <th>acct_sts</th>\n      <th>frz_sts</th>\n      <th>stp_sts</th>\n      <th>acct_bal</th>\n      <th>bal</th>\n      <th>avg_mth_y</th>\n      <th>avg_qur_y</th>\n      <th>avg_year_y</th>\n    </tr>\n  </thead>\n  <tbody>\n    <tr>\n      <th>0</th>\n      <td>330801199010011879</td>\n      <td>4.42</td>\n      <td>0.53</td>\n      <td>0.0</td>\n      <td>4.42</td>\n      <td>4.42</td>\n      <td>0.0</td>\n      <td>0.0</td>\n      <td>4.42</td>\n      <td>0.0</td>\n      <td>...</td>\n      <td>0</td>\n      <td>0</td>\n      <td>0</td>\n      <td>0</td>\n      <td>0</td>\n      <td>4.42</td>\n      <td>4.42</td>\n      <td>0.53</td>\n      <td>0.0</td>\n      <td>4.42</td>\n    </tr>\n    <tr>\n      <th>1</th>\n      <td>320982199302235614</td>\n      <td>20.19</td>\n      <td>2.41</td>\n      <td>0.0</td>\n      <td>20.19</td>\n      <td>20.19</td>\n      <td>0.0</td>\n      <td>0.0</td>\n      <td>20.19</td>\n      <td>0.0</td>\n      <td>...</td>\n      <td>0</td>\n      <td>0</td>\n      <td>0</td>\n      <td>0</td>\n      <td>0</td>\n      <td>20.19</td>\n      <td>20.19</td>\n      <td>2.41</td>\n      <td>0.0</td>\n      <td>20.19</td>\n    </tr>\n    <tr>\n      <th>2</th>\n      <td>320982199003129328</td>\n      <td>60281.80</td>\n      <td>7197.83</td>\n      <td>0.0</td>\n      <td>57871.58</td>\n      <td>281.80</td>\n      <td>60000.0</td>\n      <td>0.0</td>\n      <td>281.80</td>\n      <td>0.0</td>\n      <td>...</td>\n      <td>0</td>\n      <td>0</td>\n      <td>0</td>\n      <td>0</td>\n      <td>0</td>\n      <td>281.80</td>\n      <td>281.80</td>\n      <td>33.65</td>\n      <td>0.0</td>\n      <td>267.92</td>\n    </tr>\n    <tr>\n      <th>3</th>\n      <td>320925196507290894</td>\n      <td>4364.46</td>\n      <td>521.13</td>\n      <td>0.0</td>\n      <td>8505.26</td>\n      <td>4364.46</td>\n      <td>0.0</td>\n      <td>0.0</td>\n      <td>4364.46</td>\n      <td>0.0</td>\n      <td>...</td>\n      <td>0</td>\n      <td>0</td>\n      <td>0</td>\n      <td>0</td>\n      <td>0</td>\n      <td>4364.46</td>\n      <td>4364.46</td>\n      <td>521.13</td>\n      <td>0.0</td>\n      <td>8505.26</td>\n    </tr>\n    <tr>\n      <th>4</th>\n      <td>320721198511044525</td>\n      <td>29.72</td>\n      <td>3.55</td>\n      <td>0.0</td>\n      <td>214.09</td>\n      <td>29.72</td>\n      <td>0.0</td>\n      <td>0.0</td>\n      <td>29.72</td>\n      <td>0.0</td>\n      <td>...</td>\n      <td>0</td>\n      <td>0</td>\n      <td>0</td>\n      <td>0</td>\n      <td>0</td>\n      <td>29.72</td>\n      <td>29.72</td>\n      <td>3.55</td>\n      <td>0.0</td>\n      <td>214.09</td>\n    </tr>\n  </tbody>\n</table>\n<p>5 rows × 29 columns</p>\n</div>"
     },
     "execution_count": 41,
     "metadata": {},
     "output_type": "execute_result"
    }
   ],
   "source": [
    "x = df.iloc[:, 0:-1]\n",
    "x.head(5)"
   ],
   "metadata": {
    "collapsed": false,
    "pycharm": {
     "name": "#%%\n"
    }
   }
  },
  {
   "cell_type": "code",
   "execution_count": 42,
   "outputs": [
    {
     "data": {
      "text/plain": "0    1\n1    1\n2    3\n3    2\n4    1\nName: star_level, dtype: int64"
     },
     "execution_count": 42,
     "metadata": {},
     "output_type": "execute_result"
    }
   ],
   "source": [
    "y = df.iloc[:, -1]\n",
    "y.head(5)"
   ],
   "metadata": {
    "collapsed": false,
    "pycharm": {
     "name": "#%%\n"
    }
   }
  },
  {
   "cell_type": "code",
   "execution_count": 43,
   "outputs": [
    {
     "name": "stdout",
     "output_type": "stream",
     "text": [
      "13  variables are found to be almost constant\n"
     ]
    },
    {
     "data": {
      "text/plain": "['avg_qur_x',\n 'fin_bal',\n 'td_crd_bal',\n 'sa_td_bal',\n 'ntc_bal',\n 'td_3m_bal',\n 'td_6m_bal',\n 'td_2y_bal',\n 'out_td_bal',\n 'cd_bal',\n 'frz_sts',\n 'stp_sts',\n 'avg_qur_y']"
     },
     "execution_count": 43,
     "metadata": {},
     "output_type": "execute_result"
    }
   ],
   "source": [
    "# filter_method: 剔除常量，因为这些特征对于 y 值没有任何的影响\n",
    "constant_feature = ft.constant_feature_detect(x, threshold=0.9)\n",
    "constant_feature"
   ],
   "metadata": {
    "collapsed": false,
    "pycharm": {
     "name": "#%%\n"
    }
   }
  },
  {
   "cell_type": "code",
   "execution_count": 44,
   "outputs": [
    {
     "data": {
      "text/plain": "    all_bal  avg_mth_x  avg_year_x   sa_bal   td_bal  sa_crd_bal  td_1y_bal  \\\n0      4.42       0.53        4.42     4.42      0.0        4.42        0.0   \n1     20.19       2.41       20.19    20.19      0.0       20.19        0.0   \n2  60281.80    7197.83    57871.58   281.80  60000.0      281.80        0.0   \n3   4364.46     521.13     8505.26  4364.46      0.0     4364.46        0.0   \n4     29.72       3.55      214.09    29.72      0.0       29.72        0.0   \n\n   td_3y_bal  acct_char  deps_type  acct_sts  acct_bal      bal  avg_mth_y  \\\n0        0.0          0          0         0      4.42     4.42       0.53   \n1        0.0          0          0         0     20.19    20.19       2.41   \n2    60000.0          0          0         0    281.80   281.80      33.65   \n3        0.0          0          0         0   4364.46  4364.46     521.13   \n4        0.0          0          0         0     29.72    29.72       3.55   \n\n   avg_year_y  \n0        4.42  \n1       20.19  \n2      267.92  \n3     8505.26  \n4      214.09  ",
      "text/html": "<div>\n<style scoped>\n    .dataframe tbody tr th:only-of-type {\n        vertical-align: middle;\n    }\n\n    .dataframe tbody tr th {\n        vertical-align: top;\n    }\n\n    .dataframe thead th {\n        text-align: right;\n    }\n</style>\n<table border=\"1\" class=\"dataframe\">\n  <thead>\n    <tr style=\"text-align: right;\">\n      <th></th>\n      <th>all_bal</th>\n      <th>avg_mth_x</th>\n      <th>avg_year_x</th>\n      <th>sa_bal</th>\n      <th>td_bal</th>\n      <th>sa_crd_bal</th>\n      <th>td_1y_bal</th>\n      <th>td_3y_bal</th>\n      <th>acct_char</th>\n      <th>deps_type</th>\n      <th>acct_sts</th>\n      <th>acct_bal</th>\n      <th>bal</th>\n      <th>avg_mth_y</th>\n      <th>avg_year_y</th>\n    </tr>\n  </thead>\n  <tbody>\n    <tr>\n      <th>0</th>\n      <td>4.42</td>\n      <td>0.53</td>\n      <td>4.42</td>\n      <td>4.42</td>\n      <td>0.0</td>\n      <td>4.42</td>\n      <td>0.0</td>\n      <td>0.0</td>\n      <td>0</td>\n      <td>0</td>\n      <td>0</td>\n      <td>4.42</td>\n      <td>4.42</td>\n      <td>0.53</td>\n      <td>4.42</td>\n    </tr>\n    <tr>\n      <th>1</th>\n      <td>20.19</td>\n      <td>2.41</td>\n      <td>20.19</td>\n      <td>20.19</td>\n      <td>0.0</td>\n      <td>20.19</td>\n      <td>0.0</td>\n      <td>0.0</td>\n      <td>0</td>\n      <td>0</td>\n      <td>0</td>\n      <td>20.19</td>\n      <td>20.19</td>\n      <td>2.41</td>\n      <td>20.19</td>\n    </tr>\n    <tr>\n      <th>2</th>\n      <td>60281.80</td>\n      <td>7197.83</td>\n      <td>57871.58</td>\n      <td>281.80</td>\n      <td>60000.0</td>\n      <td>281.80</td>\n      <td>0.0</td>\n      <td>60000.0</td>\n      <td>0</td>\n      <td>0</td>\n      <td>0</td>\n      <td>281.80</td>\n      <td>281.80</td>\n      <td>33.65</td>\n      <td>267.92</td>\n    </tr>\n    <tr>\n      <th>3</th>\n      <td>4364.46</td>\n      <td>521.13</td>\n      <td>8505.26</td>\n      <td>4364.46</td>\n      <td>0.0</td>\n      <td>4364.46</td>\n      <td>0.0</td>\n      <td>0.0</td>\n      <td>0</td>\n      <td>0</td>\n      <td>0</td>\n      <td>4364.46</td>\n      <td>4364.46</td>\n      <td>521.13</td>\n      <td>8505.26</td>\n    </tr>\n    <tr>\n      <th>4</th>\n      <td>29.72</td>\n      <td>3.55</td>\n      <td>214.09</td>\n      <td>29.72</td>\n      <td>0.0</td>\n      <td>29.72</td>\n      <td>0.0</td>\n      <td>0.0</td>\n      <td>0</td>\n      <td>0</td>\n      <td>0</td>\n      <td>29.72</td>\n      <td>29.72</td>\n      <td>3.55</td>\n      <td>214.09</td>\n    </tr>\n  </tbody>\n</table>\n</div>"
     },
     "execution_count": 44,
     "metadata": {},
     "output_type": "execute_result"
    }
   ],
   "source": [
    "x.drop(labels=constant_feature, axis=1, inplace=True)\n",
    "# uid 非数字，对 star_level 也没有影响，去除\n",
    "x.drop(labels='uid', axis=1, inplace=True)\n",
    "x.head(5)"
   ],
   "metadata": {
    "collapsed": false,
    "pycharm": {
     "name": "#%%\n"
    }
   }
  },
  {
   "cell_type": "code",
   "execution_count": 45,
   "outputs": [
    {
     "name": "stdout",
     "output_type": "stream",
     "text": [
      "      feature1   feature2      corr\n",
      "0   avg_year_x  avg_mth_x  0.986980\n",
      "15  avg_year_x    all_bal  0.946326\n",
      "16  avg_year_x     td_bal  0.931101\n",
      "31  avg_year_x  td_3y_bal  0.700067 \n",
      "\n",
      "     feature1 feature2     corr\n",
      "2  sa_crd_bal   sa_bal  0.98572 \n",
      "\n",
      "     feature1    feature2      corr\n",
      "6   avg_mth_y         bal  0.973440\n",
      "8   avg_mth_y    acct_bal  0.973440\n",
      "19  avg_mth_y  avg_year_y  0.851603 \n",
      "\n"
     ]
    }
   ],
   "source": [
    "# 计算相关系数，相关系数大于 0.7 的特征可以删除\n",
    "corr = ft.corr_feature_detect(data=x, threshold=0.7)\n",
    "for i in corr:\n",
    "    print(i, '\\n')"
   ],
   "metadata": {
    "collapsed": false,
    "pycharm": {
     "name": "#%%\n"
    }
   }
  },
  {
   "cell_type": "code",
   "execution_count": 46,
   "outputs": [],
   "source": [
    "corr_columns = ['avg_mth_x', 'sa_crd_bal', 'avg_mth_y']\n",
    "x.drop(columns=corr_columns, axis=1, inplace=True)"
   ],
   "metadata": {
    "collapsed": false,
    "pycharm": {
     "name": "#%%\n"
    }
   }
  },
  {
   "cell_type": "code",
   "execution_count": 47,
   "outputs": [
    {
     "name": "stderr",
     "output_type": "stream",
     "text": [
      "/opt/homebrew/Caskroom/miniconda/base/envs/ml-pytorch/lib/python3.9/site-packages/statsmodels/stats/outliers_influence.py:198: RuntimeWarning: divide by zero encountered in double_scalars\n",
      "  vif = 1. / (1. - r_squared_i)\n"
     ]
    },
    {
     "data": {
      "text/plain": "         index        VIF\n0      all_bal  79.609039\n1   avg_year_x  16.624898\n2       sa_bal   4.490780\n3       td_bal  68.585476\n4    td_1y_bal   1.755131\n5    td_3y_bal   6.575741\n6    acct_char   1.548635\n7    deps_type   2.165397\n8     acct_sts   1.538249\n9     acct_bal        inf\n10         bal        inf\n11  avg_year_y   3.439111",
      "text/html": "<div>\n<style scoped>\n    .dataframe tbody tr th:only-of-type {\n        vertical-align: middle;\n    }\n\n    .dataframe tbody tr th {\n        vertical-align: top;\n    }\n\n    .dataframe thead th {\n        text-align: right;\n    }\n</style>\n<table border=\"1\" class=\"dataframe\">\n  <thead>\n    <tr style=\"text-align: right;\">\n      <th></th>\n      <th>index</th>\n      <th>VIF</th>\n    </tr>\n  </thead>\n  <tbody>\n    <tr>\n      <th>0</th>\n      <td>all_bal</td>\n      <td>79.609039</td>\n    </tr>\n    <tr>\n      <th>1</th>\n      <td>avg_year_x</td>\n      <td>16.624898</td>\n    </tr>\n    <tr>\n      <th>2</th>\n      <td>sa_bal</td>\n      <td>4.490780</td>\n    </tr>\n    <tr>\n      <th>3</th>\n      <td>td_bal</td>\n      <td>68.585476</td>\n    </tr>\n    <tr>\n      <th>4</th>\n      <td>td_1y_bal</td>\n      <td>1.755131</td>\n    </tr>\n    <tr>\n      <th>5</th>\n      <td>td_3y_bal</td>\n      <td>6.575741</td>\n    </tr>\n    <tr>\n      <th>6</th>\n      <td>acct_char</td>\n      <td>1.548635</td>\n    </tr>\n    <tr>\n      <th>7</th>\n      <td>deps_type</td>\n      <td>2.165397</td>\n    </tr>\n    <tr>\n      <th>8</th>\n      <td>acct_sts</td>\n      <td>1.538249</td>\n    </tr>\n    <tr>\n      <th>9</th>\n      <td>acct_bal</td>\n      <td>inf</td>\n    </tr>\n    <tr>\n      <th>10</th>\n      <td>bal</td>\n      <td>inf</td>\n    </tr>\n    <tr>\n      <th>11</th>\n      <td>avg_year_y</td>\n      <td>3.439111</td>\n    </tr>\n  </tbody>\n</table>\n</div>"
     },
     "execution_count": 47,
     "metadata": {},
     "output_type": "execute_result"
    }
   ],
   "source": [
    "# 计算 VIF 共线性，共线性大于 20 的特征删除\n",
    "vif = ft.calc_VIF(x)\n",
    "vif.head(30)"
   ],
   "metadata": {
    "collapsed": false,
    "pycharm": {
     "name": "#%%\n"
    }
   }
  },
  {
   "cell_type": "code",
   "execution_count": 48,
   "outputs": [],
   "source": [
    "# all_bal、td_bal、acct_bal、bal 共线性太强，剔除\n",
    "vif_columns = ['all_bal', 'td_bal', 'acct_bal', 'bal']\n",
    "x.drop(columns=vif_columns, axis=1, inplace=True)"
   ],
   "metadata": {
    "collapsed": false,
    "pycharm": {
     "name": "#%%\n"
    }
   }
  },
  {
   "cell_type": "code",
   "execution_count": 49,
   "outputs": [
    {
     "name": "stdout",
     "output_type": "stream",
     "text": [
      "Index(['avg_year_x', 'sa_bal', 'td_1y_bal', 'td_3y_bal', 'acct_sts',\n",
      "       'avg_year_y'],\n",
      "      dtype='object')\n"
     ]
    }
   ],
   "source": [
    "# 互信息衡量选择最好的 80% 特征\n",
    "mi = ft.mutual_info(X=x, y=y, select_k=0.8)\n",
    "print(mi)"
   ],
   "metadata": {
    "collapsed": false,
    "pycharm": {
     "name": "#%%\n"
    }
   }
  },
  {
   "cell_type": "code",
   "execution_count": 50,
   "outputs": [
    {
     "data": {
      "text/plain": "   avg_year_x   sa_bal  td_1y_bal  td_3y_bal  deps_type  avg_year_y\n0        4.42     4.42        0.0        0.0          0        4.42\n1       20.19    20.19        0.0        0.0          0       20.19\n2    57871.58   281.80        0.0    60000.0          0      267.92\n3     8505.26  4364.46        0.0        0.0          0     8505.26\n4      214.09    29.72        0.0        0.0          0      214.09",
      "text/html": "<div>\n<style scoped>\n    .dataframe tbody tr th:only-of-type {\n        vertical-align: middle;\n    }\n\n    .dataframe tbody tr th {\n        vertical-align: top;\n    }\n\n    .dataframe thead th {\n        text-align: right;\n    }\n</style>\n<table border=\"1\" class=\"dataframe\">\n  <thead>\n    <tr style=\"text-align: right;\">\n      <th></th>\n      <th>avg_year_x</th>\n      <th>sa_bal</th>\n      <th>td_1y_bal</th>\n      <th>td_3y_bal</th>\n      <th>deps_type</th>\n      <th>avg_year_y</th>\n    </tr>\n  </thead>\n  <tbody>\n    <tr>\n      <th>0</th>\n      <td>4.42</td>\n      <td>4.42</td>\n      <td>0.0</td>\n      <td>0.0</td>\n      <td>0</td>\n      <td>4.42</td>\n    </tr>\n    <tr>\n      <th>1</th>\n      <td>20.19</td>\n      <td>20.19</td>\n      <td>0.0</td>\n      <td>0.0</td>\n      <td>0</td>\n      <td>20.19</td>\n    </tr>\n    <tr>\n      <th>2</th>\n      <td>57871.58</td>\n      <td>281.80</td>\n      <td>0.0</td>\n      <td>60000.0</td>\n      <td>0</td>\n      <td>267.92</td>\n    </tr>\n    <tr>\n      <th>3</th>\n      <td>8505.26</td>\n      <td>4364.46</td>\n      <td>0.0</td>\n      <td>0.0</td>\n      <td>0</td>\n      <td>8505.26</td>\n    </tr>\n    <tr>\n      <th>4</th>\n      <td>214.09</td>\n      <td>29.72</td>\n      <td>0.0</td>\n      <td>0.0</td>\n      <td>0</td>\n      <td>214.09</td>\n    </tr>\n  </tbody>\n</table>\n</div>"
     },
     "execution_count": 50,
     "metadata": {},
     "output_type": "execute_result"
    }
   ],
   "source": [
    "new_x = x[['avg_year_x', 'sa_bal', 'td_1y_bal', 'td_3y_bal', 'deps_type', 'avg_year_y']]\n",
    "new_x.head(5)"
   ],
   "metadata": {
    "collapsed": false,
    "pycharm": {
     "name": "#%%\n"
    }
   }
  },
  {
   "cell_type": "code",
   "execution_count": 51,
   "outputs": [],
   "source": [
    "ans = pd.concat([new_x, y], axis=1)\n",
    "ans.to_csv('new_data.csv', header=True, index=False, sep=',')"
   ],
   "metadata": {
    "collapsed": false,
    "pycharm": {
     "name": "#%%\n"
    }
   }
  }
 ],
 "metadata": {
  "kernelspec": {
   "display_name": "Python 3",
   "language": "python",
   "name": "python3"
  },
  "language_info": {
   "codemirror_mode": {
    "name": "ipython",
    "version": 2
   },
   "file_extension": ".py",
   "mimetype": "text/x-python",
   "name": "python",
   "nbconvert_exporter": "python",
   "pygments_lexer": "ipython2",
   "version": "2.7.6"
  }
 },
 "nbformat": 4,
 "nbformat_minor": 0
}