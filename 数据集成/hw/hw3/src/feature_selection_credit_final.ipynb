{
 "cells": [
  {
   "cell_type": "code",
   "execution_count": 101,
   "outputs": [],
   "source": [
    "import pandas as pd\n",
    "import numpy as np\n",
    "import os\n",
    "# plt.style.use('seaborn-colorblind')\n",
    "# %matplotlib inline\n",
    "from feature_selection import filter_method as ft"
   ],
   "metadata": {
    "collapsed": false,
    "pycharm": {
     "name": "#%%\n"
    }
   }
  },
  {
   "cell_type": "code",
   "execution_count": 102,
   "outputs": [
    {
     "data": {
      "text/plain": "                  uid   all_bal  bad_bal  due_intr  norm_bal  delay_bal  \\\n0  110227197010069123  115400.0      0.0       0.0  112059.0        0.0   \n1  120101199105225792  115400.0      0.0       0.0  112059.0        0.0   \n2  120105197107219624  300000.0      0.0       0.0  300000.0        0.0   \n3  120109198902030396  150000.0      0.0       0.0  150000.0        0.0   \n4  130228197404090996  115400.0      0.0       0.0  112059.0        0.0   \n\n   card_sts  is_withdrw  is_transfer  is_deposit  ...  is_etc  loan_amt  \\\n0       0.0         0.0          0.0         0.0  ...     0.0  100000.0   \n1       1.0         0.0          0.0         0.0  ...     1.0  100000.0   \n2       1.0         0.0          0.0         0.0  ...     1.0  200000.0   \n3       1.0         0.0          0.0         0.0  ...     1.0  150000.0   \n4       1.0         0.0          0.0         0.0  ...     1.0    6000.0   \n\n   loan_bal  overdue_class  overdue_flag  credit_amt  owed_int_in  \\\n0   80027.0            0.0           0.0    160000.0          0.0   \n1   80027.0            0.0           0.0    160000.0          0.0   \n2  200000.0            0.0           0.0    300000.0          0.0   \n3  150000.0            0.0           0.0    150000.0          0.0   \n4    5000.0            0.0           0.0    300000.0          0.0   \n\n   owed_int_out  guar_amount  credit_level  \n0           0.0          0.0            70  \n1           0.0          0.0            -1  \n2           0.0          0.0            60  \n3           0.0          0.0            60  \n4           0.0          0.0            60  \n\n[5 rows x 24 columns]",
      "text/html": "<div>\n<style scoped>\n    .dataframe tbody tr th:only-of-type {\n        vertical-align: middle;\n    }\n\n    .dataframe tbody tr th {\n        vertical-align: top;\n    }\n\n    .dataframe thead th {\n        text-align: right;\n    }\n</style>\n<table border=\"1\" class=\"dataframe\">\n  <thead>\n    <tr style=\"text-align: right;\">\n      <th></th>\n      <th>uid</th>\n      <th>all_bal</th>\n      <th>bad_bal</th>\n      <th>due_intr</th>\n      <th>norm_bal</th>\n      <th>delay_bal</th>\n      <th>card_sts</th>\n      <th>is_withdrw</th>\n      <th>is_transfer</th>\n      <th>is_deposit</th>\n      <th>...</th>\n      <th>is_etc</th>\n      <th>loan_amt</th>\n      <th>loan_bal</th>\n      <th>overdue_class</th>\n      <th>overdue_flag</th>\n      <th>credit_amt</th>\n      <th>owed_int_in</th>\n      <th>owed_int_out</th>\n      <th>guar_amount</th>\n      <th>credit_level</th>\n    </tr>\n  </thead>\n  <tbody>\n    <tr>\n      <th>0</th>\n      <td>110227197010069123</td>\n      <td>115400.0</td>\n      <td>0.0</td>\n      <td>0.0</td>\n      <td>112059.0</td>\n      <td>0.0</td>\n      <td>0.0</td>\n      <td>0.0</td>\n      <td>0.0</td>\n      <td>0.0</td>\n      <td>...</td>\n      <td>0.0</td>\n      <td>100000.0</td>\n      <td>80027.0</td>\n      <td>0.0</td>\n      <td>0.0</td>\n      <td>160000.0</td>\n      <td>0.0</td>\n      <td>0.0</td>\n      <td>0.0</td>\n      <td>70</td>\n    </tr>\n    <tr>\n      <th>1</th>\n      <td>120101199105225792</td>\n      <td>115400.0</td>\n      <td>0.0</td>\n      <td>0.0</td>\n      <td>112059.0</td>\n      <td>0.0</td>\n      <td>1.0</td>\n      <td>0.0</td>\n      <td>0.0</td>\n      <td>0.0</td>\n      <td>...</td>\n      <td>1.0</td>\n      <td>100000.0</td>\n      <td>80027.0</td>\n      <td>0.0</td>\n      <td>0.0</td>\n      <td>160000.0</td>\n      <td>0.0</td>\n      <td>0.0</td>\n      <td>0.0</td>\n      <td>-1</td>\n    </tr>\n    <tr>\n      <th>2</th>\n      <td>120105197107219624</td>\n      <td>300000.0</td>\n      <td>0.0</td>\n      <td>0.0</td>\n      <td>300000.0</td>\n      <td>0.0</td>\n      <td>1.0</td>\n      <td>0.0</td>\n      <td>0.0</td>\n      <td>0.0</td>\n      <td>...</td>\n      <td>1.0</td>\n      <td>200000.0</td>\n      <td>200000.0</td>\n      <td>0.0</td>\n      <td>0.0</td>\n      <td>300000.0</td>\n      <td>0.0</td>\n      <td>0.0</td>\n      <td>0.0</td>\n      <td>60</td>\n    </tr>\n    <tr>\n      <th>3</th>\n      <td>120109198902030396</td>\n      <td>150000.0</td>\n      <td>0.0</td>\n      <td>0.0</td>\n      <td>150000.0</td>\n      <td>0.0</td>\n      <td>1.0</td>\n      <td>0.0</td>\n      <td>0.0</td>\n      <td>0.0</td>\n      <td>...</td>\n      <td>1.0</td>\n      <td>150000.0</td>\n      <td>150000.0</td>\n      <td>0.0</td>\n      <td>0.0</td>\n      <td>150000.0</td>\n      <td>0.0</td>\n      <td>0.0</td>\n      <td>0.0</td>\n      <td>60</td>\n    </tr>\n    <tr>\n      <th>4</th>\n      <td>130228197404090996</td>\n      <td>115400.0</td>\n      <td>0.0</td>\n      <td>0.0</td>\n      <td>112059.0</td>\n      <td>0.0</td>\n      <td>1.0</td>\n      <td>0.0</td>\n      <td>0.0</td>\n      <td>0.0</td>\n      <td>...</td>\n      <td>1.0</td>\n      <td>6000.0</td>\n      <td>5000.0</td>\n      <td>0.0</td>\n      <td>0.0</td>\n      <td>300000.0</td>\n      <td>0.0</td>\n      <td>0.0</td>\n      <td>0.0</td>\n      <td>60</td>\n    </tr>\n  </tbody>\n</table>\n<p>5 rows × 24 columns</p>\n</div>"
     },
     "execution_count": 102,
     "metadata": {},
     "output_type": "execute_result"
    }
   ],
   "source": [
    "df = pd.read_csv('../credit_data.csv')\n",
    "df.head(5)"
   ],
   "metadata": {
    "collapsed": false,
    "pycharm": {
     "name": "#%%\n"
    }
   }
  },
  {
   "cell_type": "code",
   "execution_count": 103,
   "outputs": [
    {
     "data": {
      "text/plain": "0    110227197010069123\n1    120101199105225792\n2    120105197107219624\n3    120109198902030396\n4    130228197404090996\nName: uid, dtype: object"
     },
     "execution_count": 103,
     "metadata": {},
     "output_type": "execute_result"
    }
   ],
   "source": [
    "uid = df.iloc[:, 0]\n",
    "uid.head(5)"
   ],
   "metadata": {
    "collapsed": false,
    "pycharm": {
     "name": "#%%\n"
    }
   }
  },
  {
   "cell_type": "code",
   "execution_count": 104,
   "outputs": [
    {
     "data": {
      "text/plain": "    all_bal  bad_bal  due_intr  norm_bal  delay_bal  card_sts  is_withdrw  \\\n0  115400.0      0.0       0.0  112059.0        0.0       0.0         0.0   \n1  115400.0      0.0       0.0  112059.0        0.0       1.0         0.0   \n2  300000.0      0.0       0.0  300000.0        0.0       1.0         0.0   \n3  150000.0      0.0       0.0  150000.0        0.0       1.0         0.0   \n4  115400.0      0.0       0.0  112059.0        0.0       1.0         0.0   \n\n   is_transfer  is_deposit  is_purchse  ...  is_mob_bank  is_etc  loan_amt  \\\n0          0.0         0.0         0.0  ...          0.0     0.0  100000.0   \n1          0.0         0.0         0.0  ...          0.0     1.0  100000.0   \n2          0.0         0.0         0.0  ...          0.0     1.0  200000.0   \n3          0.0         0.0         0.0  ...          0.0     1.0  150000.0   \n4          0.0         0.0         0.0  ...          0.0     1.0    6000.0   \n\n   loan_bal  overdue_class  overdue_flag  credit_amt  owed_int_in  \\\n0   80027.0            0.0           0.0    160000.0          0.0   \n1   80027.0            0.0           0.0    160000.0          0.0   \n2  200000.0            0.0           0.0    300000.0          0.0   \n3  150000.0            0.0           0.0    150000.0          0.0   \n4    5000.0            0.0           0.0    300000.0          0.0   \n\n   owed_int_out  guar_amount  \n0           0.0          0.0  \n1           0.0          0.0  \n2           0.0          0.0  \n3           0.0          0.0  \n4           0.0          0.0  \n\n[5 rows x 22 columns]",
      "text/html": "<div>\n<style scoped>\n    .dataframe tbody tr th:only-of-type {\n        vertical-align: middle;\n    }\n\n    .dataframe tbody tr th {\n        vertical-align: top;\n    }\n\n    .dataframe thead th {\n        text-align: right;\n    }\n</style>\n<table border=\"1\" class=\"dataframe\">\n  <thead>\n    <tr style=\"text-align: right;\">\n      <th></th>\n      <th>all_bal</th>\n      <th>bad_bal</th>\n      <th>due_intr</th>\n      <th>norm_bal</th>\n      <th>delay_bal</th>\n      <th>card_sts</th>\n      <th>is_withdrw</th>\n      <th>is_transfer</th>\n      <th>is_deposit</th>\n      <th>is_purchse</th>\n      <th>...</th>\n      <th>is_mob_bank</th>\n      <th>is_etc</th>\n      <th>loan_amt</th>\n      <th>loan_bal</th>\n      <th>overdue_class</th>\n      <th>overdue_flag</th>\n      <th>credit_amt</th>\n      <th>owed_int_in</th>\n      <th>owed_int_out</th>\n      <th>guar_amount</th>\n    </tr>\n  </thead>\n  <tbody>\n    <tr>\n      <th>0</th>\n      <td>115400.0</td>\n      <td>0.0</td>\n      <td>0.0</td>\n      <td>112059.0</td>\n      <td>0.0</td>\n      <td>0.0</td>\n      <td>0.0</td>\n      <td>0.0</td>\n      <td>0.0</td>\n      <td>0.0</td>\n      <td>...</td>\n      <td>0.0</td>\n      <td>0.0</td>\n      <td>100000.0</td>\n      <td>80027.0</td>\n      <td>0.0</td>\n      <td>0.0</td>\n      <td>160000.0</td>\n      <td>0.0</td>\n      <td>0.0</td>\n      <td>0.0</td>\n    </tr>\n    <tr>\n      <th>1</th>\n      <td>115400.0</td>\n      <td>0.0</td>\n      <td>0.0</td>\n      <td>112059.0</td>\n      <td>0.0</td>\n      <td>1.0</td>\n      <td>0.0</td>\n      <td>0.0</td>\n      <td>0.0</td>\n      <td>0.0</td>\n      <td>...</td>\n      <td>0.0</td>\n      <td>1.0</td>\n      <td>100000.0</td>\n      <td>80027.0</td>\n      <td>0.0</td>\n      <td>0.0</td>\n      <td>160000.0</td>\n      <td>0.0</td>\n      <td>0.0</td>\n      <td>0.0</td>\n    </tr>\n    <tr>\n      <th>2</th>\n      <td>300000.0</td>\n      <td>0.0</td>\n      <td>0.0</td>\n      <td>300000.0</td>\n      <td>0.0</td>\n      <td>1.0</td>\n      <td>0.0</td>\n      <td>0.0</td>\n      <td>0.0</td>\n      <td>0.0</td>\n      <td>...</td>\n      <td>0.0</td>\n      <td>1.0</td>\n      <td>200000.0</td>\n      <td>200000.0</td>\n      <td>0.0</td>\n      <td>0.0</td>\n      <td>300000.0</td>\n      <td>0.0</td>\n      <td>0.0</td>\n      <td>0.0</td>\n    </tr>\n    <tr>\n      <th>3</th>\n      <td>150000.0</td>\n      <td>0.0</td>\n      <td>0.0</td>\n      <td>150000.0</td>\n      <td>0.0</td>\n      <td>1.0</td>\n      <td>0.0</td>\n      <td>0.0</td>\n      <td>0.0</td>\n      <td>0.0</td>\n      <td>...</td>\n      <td>0.0</td>\n      <td>1.0</td>\n      <td>150000.0</td>\n      <td>150000.0</td>\n      <td>0.0</td>\n      <td>0.0</td>\n      <td>150000.0</td>\n      <td>0.0</td>\n      <td>0.0</td>\n      <td>0.0</td>\n    </tr>\n    <tr>\n      <th>4</th>\n      <td>115400.0</td>\n      <td>0.0</td>\n      <td>0.0</td>\n      <td>112059.0</td>\n      <td>0.0</td>\n      <td>1.0</td>\n      <td>0.0</td>\n      <td>0.0</td>\n      <td>0.0</td>\n      <td>0.0</td>\n      <td>...</td>\n      <td>0.0</td>\n      <td>1.0</td>\n      <td>6000.0</td>\n      <td>5000.0</td>\n      <td>0.0</td>\n      <td>0.0</td>\n      <td>300000.0</td>\n      <td>0.0</td>\n      <td>0.0</td>\n      <td>0.0</td>\n    </tr>\n  </tbody>\n</table>\n<p>5 rows × 22 columns</p>\n</div>"
     },
     "execution_count": 104,
     "metadata": {},
     "output_type": "execute_result"
    }
   ],
   "source": [
    "x = df.iloc[:, 1:-1]\n",
    "x.head(5)"
   ],
   "metadata": {
    "collapsed": false,
    "pycharm": {
     "name": "#%%\n"
    }
   }
  },
  {
   "cell_type": "code",
   "execution_count": 105,
   "outputs": [
    {
     "data": {
      "text/plain": "0    70\n1    -1\n2    60\n3    60\n4    60\nName: credit_level, dtype: int64"
     },
     "execution_count": 105,
     "metadata": {},
     "output_type": "execute_result"
    }
   ],
   "source": [
    "y = df.iloc[:, -1]\n",
    "y.head(5)"
   ],
   "metadata": {
    "collapsed": false,
    "pycharm": {
     "name": "#%%\n"
    }
   }
  },
  {
   "cell_type": "code",
   "execution_count": 106,
   "outputs": [
    {
     "name": "stdout",
     "output_type": "stream",
     "text": [
      "11  variables are found to be almost constant\n"
     ]
    },
    {
     "data": {
      "text/plain": "['bad_bal',\n 'due_intr',\n 'delay_bal',\n 'is_withdrw',\n 'is_transfer',\n 'is_deposit',\n 'is_purchse',\n 'overdue_class',\n 'overdue_flag',\n 'owed_int_in',\n 'owed_int_out']"
     },
     "execution_count": 106,
     "metadata": {},
     "output_type": "execute_result"
    }
   ],
   "source": [
    "# filter_method: 剔除常量，因为这些特征对于 y 值没有任何的影响\n",
    "constant_feature = ft.constant_feature_detect(x, threshold=0.93)\n",
    "constant_feature"
   ],
   "metadata": {
    "collapsed": false,
    "pycharm": {
     "name": "#%%\n"
    }
   }
  },
  {
   "cell_type": "code",
   "execution_count": 107,
   "outputs": [
    {
     "data": {
      "text/plain": "    all_bal  norm_bal  card_sts  cred_limit  bankacct_bal  is_mob_bank  \\\n0  115400.0  112059.0       0.0     10000.0           0.0          0.0   \n1  115400.0  112059.0       1.0      5000.0           0.0          0.0   \n2  300000.0  300000.0       1.0      5000.0           0.0          0.0   \n3  150000.0  150000.0       1.0      5000.0           0.0          0.0   \n4  115400.0  112059.0       1.0      5000.0           0.0          0.0   \n\n   is_etc  loan_amt  loan_bal  credit_amt  guar_amount  \n0     0.0  100000.0   80027.0    160000.0          0.0  \n1     1.0  100000.0   80027.0    160000.0          0.0  \n2     1.0  200000.0  200000.0    300000.0          0.0  \n3     1.0  150000.0  150000.0    150000.0          0.0  \n4     1.0    6000.0    5000.0    300000.0          0.0  ",
      "text/html": "<div>\n<style scoped>\n    .dataframe tbody tr th:only-of-type {\n        vertical-align: middle;\n    }\n\n    .dataframe tbody tr th {\n        vertical-align: top;\n    }\n\n    .dataframe thead th {\n        text-align: right;\n    }\n</style>\n<table border=\"1\" class=\"dataframe\">\n  <thead>\n    <tr style=\"text-align: right;\">\n      <th></th>\n      <th>all_bal</th>\n      <th>norm_bal</th>\n      <th>card_sts</th>\n      <th>cred_limit</th>\n      <th>bankacct_bal</th>\n      <th>is_mob_bank</th>\n      <th>is_etc</th>\n      <th>loan_amt</th>\n      <th>loan_bal</th>\n      <th>credit_amt</th>\n      <th>guar_amount</th>\n    </tr>\n  </thead>\n  <tbody>\n    <tr>\n      <th>0</th>\n      <td>115400.0</td>\n      <td>112059.0</td>\n      <td>0.0</td>\n      <td>10000.0</td>\n      <td>0.0</td>\n      <td>0.0</td>\n      <td>0.0</td>\n      <td>100000.0</td>\n      <td>80027.0</td>\n      <td>160000.0</td>\n      <td>0.0</td>\n    </tr>\n    <tr>\n      <th>1</th>\n      <td>115400.0</td>\n      <td>112059.0</td>\n      <td>1.0</td>\n      <td>5000.0</td>\n      <td>0.0</td>\n      <td>0.0</td>\n      <td>1.0</td>\n      <td>100000.0</td>\n      <td>80027.0</td>\n      <td>160000.0</td>\n      <td>0.0</td>\n    </tr>\n    <tr>\n      <th>2</th>\n      <td>300000.0</td>\n      <td>300000.0</td>\n      <td>1.0</td>\n      <td>5000.0</td>\n      <td>0.0</td>\n      <td>0.0</td>\n      <td>1.0</td>\n      <td>200000.0</td>\n      <td>200000.0</td>\n      <td>300000.0</td>\n      <td>0.0</td>\n    </tr>\n    <tr>\n      <th>3</th>\n      <td>150000.0</td>\n      <td>150000.0</td>\n      <td>1.0</td>\n      <td>5000.0</td>\n      <td>0.0</td>\n      <td>0.0</td>\n      <td>1.0</td>\n      <td>150000.0</td>\n      <td>150000.0</td>\n      <td>150000.0</td>\n      <td>0.0</td>\n    </tr>\n    <tr>\n      <th>4</th>\n      <td>115400.0</td>\n      <td>112059.0</td>\n      <td>1.0</td>\n      <td>5000.0</td>\n      <td>0.0</td>\n      <td>0.0</td>\n      <td>1.0</td>\n      <td>6000.0</td>\n      <td>5000.0</td>\n      <td>300000.0</td>\n      <td>0.0</td>\n    </tr>\n  </tbody>\n</table>\n</div>"
     },
     "execution_count": 107,
     "metadata": {},
     "output_type": "execute_result"
    }
   ],
   "source": [
    "x.drop(labels=constant_feature, axis=1, inplace=True)\n",
    "x.head(5)"
   ],
   "metadata": {
    "collapsed": false,
    "pycharm": {
     "name": "#%%\n"
    }
   }
  },
  {
   "cell_type": "code",
   "execution_count": 108,
   "outputs": [
    {
     "name": "stdout",
     "output_type": "stream",
     "text": [
      "   feature1    feature2      corr\n",
      "0   all_bal    norm_bal  0.994120\n",
      "7   all_bal    loan_bal  0.825448\n",
      "12  all_bal  credit_amt  0.808911\n",
      "16  all_bal    loan_amt  0.795914 \n",
      "\n",
      "       feature1  feature2      corr\n",
      "21  guar_amount  loan_amt  0.728662 \n",
      "\n"
     ]
    }
   ],
   "source": [
    "# 计算相关系数，相关系数大于 0.7 的特征可以删除\n",
    "corr = ft.corr_feature_detect(data=x, threshold=0.7)\n",
    "for i in corr:\n",
    "    print(i, '\\n')"
   ],
   "metadata": {
    "collapsed": false,
    "pycharm": {
     "name": "#%%\n"
    }
   }
  },
  {
   "cell_type": "code",
   "execution_count": 109,
   "outputs": [],
   "source": [
    "corr_columns = ['all_bal', 'guar_amount']\n",
    "x.drop(columns=corr_columns, axis=1, inplace=True)"
   ],
   "metadata": {
    "collapsed": false,
    "pycharm": {
     "name": "#%%\n"
    }
   }
  },
  {
   "cell_type": "code",
   "execution_count": 110,
   "outputs": [
    {
     "data": {
      "text/plain": "          index        VIF\n0      norm_bal   9.163161\n1      card_sts   3.971374\n2    cred_limit   4.529612\n3  bankacct_bal   1.179528\n4   is_mob_bank   1.291116\n5        is_etc   5.272598\n6      loan_amt  25.669614\n7      loan_bal  19.921820\n8    credit_amt  19.023248",
      "text/html": "<div>\n<style scoped>\n    .dataframe tbody tr th:only-of-type {\n        vertical-align: middle;\n    }\n\n    .dataframe tbody tr th {\n        vertical-align: top;\n    }\n\n    .dataframe thead th {\n        text-align: right;\n    }\n</style>\n<table border=\"1\" class=\"dataframe\">\n  <thead>\n    <tr style=\"text-align: right;\">\n      <th></th>\n      <th>index</th>\n      <th>VIF</th>\n    </tr>\n  </thead>\n  <tbody>\n    <tr>\n      <th>0</th>\n      <td>norm_bal</td>\n      <td>9.163161</td>\n    </tr>\n    <tr>\n      <th>1</th>\n      <td>card_sts</td>\n      <td>3.971374</td>\n    </tr>\n    <tr>\n      <th>2</th>\n      <td>cred_limit</td>\n      <td>4.529612</td>\n    </tr>\n    <tr>\n      <th>3</th>\n      <td>bankacct_bal</td>\n      <td>1.179528</td>\n    </tr>\n    <tr>\n      <th>4</th>\n      <td>is_mob_bank</td>\n      <td>1.291116</td>\n    </tr>\n    <tr>\n      <th>5</th>\n      <td>is_etc</td>\n      <td>5.272598</td>\n    </tr>\n    <tr>\n      <th>6</th>\n      <td>loan_amt</td>\n      <td>25.669614</td>\n    </tr>\n    <tr>\n      <th>7</th>\n      <td>loan_bal</td>\n      <td>19.921820</td>\n    </tr>\n    <tr>\n      <th>8</th>\n      <td>credit_amt</td>\n      <td>19.023248</td>\n    </tr>\n  </tbody>\n</table>\n</div>"
     },
     "execution_count": 110,
     "metadata": {},
     "output_type": "execute_result"
    }
   ],
   "source": [
    "# 计算 VIF 共线性，共线性大于 0.7 的特征删除\n",
    "vif = ft.calc_VIF(x)\n",
    "vif.head(30)"
   ],
   "metadata": {
    "collapsed": false,
    "pycharm": {
     "name": "#%%\n"
    }
   }
  },
  {
   "cell_type": "code",
   "execution_count": 111,
   "outputs": [],
   "source": [
    "# is_transfer、is_purchse、共线性太强，剔除\n",
    "vif_columns = ['loan_amt']\n",
    "x.drop(columns=vif_columns, axis=1, inplace=True)"
   ],
   "metadata": {
    "collapsed": false,
    "pycharm": {
     "name": "#%%\n"
    }
   }
  },
  {
   "cell_type": "code",
   "execution_count": 112,
   "outputs": [
    {
     "name": "stdout",
     "output_type": "stream",
     "text": [
      "Index(['norm_bal', 'cred_limit', 'is_mob_bank', 'is_etc', 'loan_bal',\n",
      "       'credit_amt'],\n",
      "      dtype='object')\n"
     ]
    }
   ],
   "source": [
    "# 互信息衡量选择最好的 80% 特征\n",
    "mi = ft.mutual_info(X=x, y=y, select_k=0.8)\n",
    "print(mi)"
   ],
   "metadata": {
    "collapsed": false,
    "pycharm": {
     "name": "#%%\n"
    }
   }
  },
  {
   "cell_type": "code",
   "execution_count": 113,
   "outputs": [
    {
     "data": {
      "text/plain": "   norm_bal  cred_limit  is_mob_bank  is_etc  loan_bal  credit_amt\n0  112059.0     10000.0          0.0     0.0   80027.0    160000.0\n1  112059.0      5000.0          0.0     1.0   80027.0    160000.0\n2  300000.0      5000.0          0.0     1.0  200000.0    300000.0\n3  150000.0      5000.0          0.0     1.0  150000.0    150000.0\n4  112059.0      5000.0          0.0     1.0    5000.0    300000.0",
      "text/html": "<div>\n<style scoped>\n    .dataframe tbody tr th:only-of-type {\n        vertical-align: middle;\n    }\n\n    .dataframe tbody tr th {\n        vertical-align: top;\n    }\n\n    .dataframe thead th {\n        text-align: right;\n    }\n</style>\n<table border=\"1\" class=\"dataframe\">\n  <thead>\n    <tr style=\"text-align: right;\">\n      <th></th>\n      <th>norm_bal</th>\n      <th>cred_limit</th>\n      <th>is_mob_bank</th>\n      <th>is_etc</th>\n      <th>loan_bal</th>\n      <th>credit_amt</th>\n    </tr>\n  </thead>\n  <tbody>\n    <tr>\n      <th>0</th>\n      <td>112059.0</td>\n      <td>10000.0</td>\n      <td>0.0</td>\n      <td>0.0</td>\n      <td>80027.0</td>\n      <td>160000.0</td>\n    </tr>\n    <tr>\n      <th>1</th>\n      <td>112059.0</td>\n      <td>5000.0</td>\n      <td>0.0</td>\n      <td>1.0</td>\n      <td>80027.0</td>\n      <td>160000.0</td>\n    </tr>\n    <tr>\n      <th>2</th>\n      <td>300000.0</td>\n      <td>5000.0</td>\n      <td>0.0</td>\n      <td>1.0</td>\n      <td>200000.0</td>\n      <td>300000.0</td>\n    </tr>\n    <tr>\n      <th>3</th>\n      <td>150000.0</td>\n      <td>5000.0</td>\n      <td>0.0</td>\n      <td>1.0</td>\n      <td>150000.0</td>\n      <td>150000.0</td>\n    </tr>\n    <tr>\n      <th>4</th>\n      <td>112059.0</td>\n      <td>5000.0</td>\n      <td>0.0</td>\n      <td>1.0</td>\n      <td>5000.0</td>\n      <td>300000.0</td>\n    </tr>\n  </tbody>\n</table>\n</div>"
     },
     "execution_count": 113,
     "metadata": {},
     "output_type": "execute_result"
    }
   ],
   "source": [
    "new_x = x[['norm_bal', 'cred_limit', 'is_mob_bank', 'is_etc', 'loan_bal', 'credit_amt']]\n",
    "new_x.head(5)"
   ],
   "metadata": {
    "collapsed": false,
    "pycharm": {
     "name": "#%%\n"
    }
   }
  },
  {
   "cell_type": "code",
   "execution_count": 114,
   "outputs": [],
   "source": [
    "ans = pd.concat([uid, new_x, y], axis=1)\n",
    "ans.to_csv('../new_credit_data.csv', header=True, index=False, sep=',')"
   ],
   "metadata": {
    "collapsed": false,
    "pycharm": {
     "name": "#%%\n"
    }
   }
  },
  {
   "cell_type": "code",
   "execution_count": null,
   "outputs": [],
   "source": [],
   "metadata": {
    "collapsed": false,
    "pycharm": {
     "name": "#%%\n"
    }
   }
  }
 ],
 "metadata": {
  "kernelspec": {
   "display_name": "Python 3",
   "language": "python",
   "name": "python3"
  },
  "language_info": {
   "codemirror_mode": {
    "name": "ipython",
    "version": 2
   },
   "file_extension": ".py",
   "mimetype": "text/x-python",
   "name": "python",
   "nbconvert_exporter": "python",
   "pygments_lexer": "ipython2",
   "version": "2.7.6"
  }
 },
 "nbformat": 4,
 "nbformat_minor": 0
}