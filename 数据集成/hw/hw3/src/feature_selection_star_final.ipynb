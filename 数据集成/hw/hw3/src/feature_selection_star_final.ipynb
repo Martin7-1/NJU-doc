{
 "cells": [
  {
   "cell_type": "code",
   "execution_count": 14,
   "outputs": [],
   "source": [
    "import pandas as pd\n",
    "import numpy as np\n",
    "import os\n",
    "# plt.style.use('seaborn-colorblind')\n",
    "# %matplotlib inline\n",
    "from feature_selection import filter_method as ft"
   ],
   "metadata": {
    "collapsed": false,
    "pycharm": {
     "name": "#%%\n"
    }
   }
  },
  {
   "cell_type": "code",
   "execution_count": 15,
   "outputs": [
    {
     "data": {
      "text/plain": "                  uid  all_bal  avg_mth_x  avg_qur_x  avg_year_x  sa_bal  \\\n0  110115197206193491   539.47      64.41        0.0     3897.68  539.47   \n1  11011519791125582X     1.43       0.17        0.0        1.43    1.43   \n2  120109201004079336    14.16       1.69        0.0       14.16   14.16   \n3  120117199505186391     0.00       0.00        0.0        0.00    0.00   \n4  120225199109064988   427.18      51.01        0.0      619.73  427.18   \n\n   td_bal  fin_bal  sa_crd_bal  td_crd_bal  ...  deps_type  acct_sts  frz_sts  \\\n0     0.0      0.0      539.47         0.0  ...        0.0       0.0      0.0   \n1     0.0      0.0        1.43         0.0  ...        0.0       0.0      0.0   \n2     0.0      0.0       14.16         0.0  ...        0.0       0.0      0.0   \n3     0.0      0.0        0.00         0.0  ...        0.0       0.0      0.0   \n4     0.0      0.0      427.18         0.0  ...        0.0       0.0      0.0   \n\n   stp_sts  acct_bal     bal  avg_mth_y  avg_qur_y  avg_year_y  star_level  \n0      0.0      6.00    6.00       0.00        0.0        9.00          -1  \n1      0.0      6.00    6.00       0.00        0.0        9.00           1  \n2      0.0     14.16   14.16       1.69        0.0       14.16           1  \n3      0.0      0.00    0.00       0.00        0.0        0.00           1  \n4      0.0    427.18  427.18      51.01        0.0      619.73           1  \n\n[5 rows x 30 columns]",
      "text/html": "<div>\n<style scoped>\n    .dataframe tbody tr th:only-of-type {\n        vertical-align: middle;\n    }\n\n    .dataframe tbody tr th {\n        vertical-align: top;\n    }\n\n    .dataframe thead th {\n        text-align: right;\n    }\n</style>\n<table border=\"1\" class=\"dataframe\">\n  <thead>\n    <tr style=\"text-align: right;\">\n      <th></th>\n      <th>uid</th>\n      <th>all_bal</th>\n      <th>avg_mth_x</th>\n      <th>avg_qur_x</th>\n      <th>avg_year_x</th>\n      <th>sa_bal</th>\n      <th>td_bal</th>\n      <th>fin_bal</th>\n      <th>sa_crd_bal</th>\n      <th>td_crd_bal</th>\n      <th>...</th>\n      <th>deps_type</th>\n      <th>acct_sts</th>\n      <th>frz_sts</th>\n      <th>stp_sts</th>\n      <th>acct_bal</th>\n      <th>bal</th>\n      <th>avg_mth_y</th>\n      <th>avg_qur_y</th>\n      <th>avg_year_y</th>\n      <th>star_level</th>\n    </tr>\n  </thead>\n  <tbody>\n    <tr>\n      <th>0</th>\n      <td>110115197206193491</td>\n      <td>539.47</td>\n      <td>64.41</td>\n      <td>0.0</td>\n      <td>3897.68</td>\n      <td>539.47</td>\n      <td>0.0</td>\n      <td>0.0</td>\n      <td>539.47</td>\n      <td>0.0</td>\n      <td>...</td>\n      <td>0.0</td>\n      <td>0.0</td>\n      <td>0.0</td>\n      <td>0.0</td>\n      <td>6.00</td>\n      <td>6.00</td>\n      <td>0.00</td>\n      <td>0.0</td>\n      <td>9.00</td>\n      <td>-1</td>\n    </tr>\n    <tr>\n      <th>1</th>\n      <td>11011519791125582X</td>\n      <td>1.43</td>\n      <td>0.17</td>\n      <td>0.0</td>\n      <td>1.43</td>\n      <td>1.43</td>\n      <td>0.0</td>\n      <td>0.0</td>\n      <td>1.43</td>\n      <td>0.0</td>\n      <td>...</td>\n      <td>0.0</td>\n      <td>0.0</td>\n      <td>0.0</td>\n      <td>0.0</td>\n      <td>6.00</td>\n      <td>6.00</td>\n      <td>0.00</td>\n      <td>0.0</td>\n      <td>9.00</td>\n      <td>1</td>\n    </tr>\n    <tr>\n      <th>2</th>\n      <td>120109201004079336</td>\n      <td>14.16</td>\n      <td>1.69</td>\n      <td>0.0</td>\n      <td>14.16</td>\n      <td>14.16</td>\n      <td>0.0</td>\n      <td>0.0</td>\n      <td>14.16</td>\n      <td>0.0</td>\n      <td>...</td>\n      <td>0.0</td>\n      <td>0.0</td>\n      <td>0.0</td>\n      <td>0.0</td>\n      <td>14.16</td>\n      <td>14.16</td>\n      <td>1.69</td>\n      <td>0.0</td>\n      <td>14.16</td>\n      <td>1</td>\n    </tr>\n    <tr>\n      <th>3</th>\n      <td>120117199505186391</td>\n      <td>0.00</td>\n      <td>0.00</td>\n      <td>0.0</td>\n      <td>0.00</td>\n      <td>0.00</td>\n      <td>0.0</td>\n      <td>0.0</td>\n      <td>0.00</td>\n      <td>0.0</td>\n      <td>...</td>\n      <td>0.0</td>\n      <td>0.0</td>\n      <td>0.0</td>\n      <td>0.0</td>\n      <td>0.00</td>\n      <td>0.00</td>\n      <td>0.00</td>\n      <td>0.0</td>\n      <td>0.00</td>\n      <td>1</td>\n    </tr>\n    <tr>\n      <th>4</th>\n      <td>120225199109064988</td>\n      <td>427.18</td>\n      <td>51.01</td>\n      <td>0.0</td>\n      <td>619.73</td>\n      <td>427.18</td>\n      <td>0.0</td>\n      <td>0.0</td>\n      <td>427.18</td>\n      <td>0.0</td>\n      <td>...</td>\n      <td>0.0</td>\n      <td>0.0</td>\n      <td>0.0</td>\n      <td>0.0</td>\n      <td>427.18</td>\n      <td>427.18</td>\n      <td>51.01</td>\n      <td>0.0</td>\n      <td>619.73</td>\n      <td>1</td>\n    </tr>\n  </tbody>\n</table>\n<p>5 rows × 30 columns</p>\n</div>"
     },
     "execution_count": 15,
     "metadata": {},
     "output_type": "execute_result"
    }
   ],
   "source": [
    "df = pd.read_csv('../star_data.csv')\n",
    "df.head(5)"
   ],
   "metadata": {
    "collapsed": false,
    "pycharm": {
     "name": "#%%\n"
    }
   }
  },
  {
   "cell_type": "code",
   "execution_count": 16,
   "outputs": [
    {
     "data": {
      "text/plain": "   all_bal  avg_mth_x  avg_qur_x  avg_year_x  sa_bal  td_bal  fin_bal  \\\n0   539.47      64.41        0.0     3897.68  539.47     0.0      0.0   \n1     1.43       0.17        0.0        1.43    1.43     0.0      0.0   \n2    14.16       1.69        0.0       14.16   14.16     0.0      0.0   \n3     0.00       0.00        0.0        0.00    0.00     0.0      0.0   \n4   427.18      51.01        0.0      619.73  427.18     0.0      0.0   \n\n   sa_crd_bal  td_crd_bal  sa_td_bal  ...  acct_char  deps_type  acct_sts  \\\n0      539.47         0.0        0.0  ...        0.0        0.0       0.0   \n1        1.43         0.0        0.0  ...        0.0        0.0       0.0   \n2       14.16         0.0        0.0  ...        0.0        0.0       0.0   \n3        0.00         0.0        0.0  ...        0.0        0.0       0.0   \n4      427.18         0.0        0.0  ...        0.0        0.0       0.0   \n\n   frz_sts  stp_sts  acct_bal     bal  avg_mth_y  avg_qur_y  avg_year_y  \n0      0.0      0.0      6.00    6.00       0.00        0.0        9.00  \n1      0.0      0.0      6.00    6.00       0.00        0.0        9.00  \n2      0.0      0.0     14.16   14.16       1.69        0.0       14.16  \n3      0.0      0.0      0.00    0.00       0.00        0.0        0.00  \n4      0.0      0.0    427.18  427.18      51.01        0.0      619.73  \n\n[5 rows x 28 columns]",
      "text/html": "<div>\n<style scoped>\n    .dataframe tbody tr th:only-of-type {\n        vertical-align: middle;\n    }\n\n    .dataframe tbody tr th {\n        vertical-align: top;\n    }\n\n    .dataframe thead th {\n        text-align: right;\n    }\n</style>\n<table border=\"1\" class=\"dataframe\">\n  <thead>\n    <tr style=\"text-align: right;\">\n      <th></th>\n      <th>all_bal</th>\n      <th>avg_mth_x</th>\n      <th>avg_qur_x</th>\n      <th>avg_year_x</th>\n      <th>sa_bal</th>\n      <th>td_bal</th>\n      <th>fin_bal</th>\n      <th>sa_crd_bal</th>\n      <th>td_crd_bal</th>\n      <th>sa_td_bal</th>\n      <th>...</th>\n      <th>acct_char</th>\n      <th>deps_type</th>\n      <th>acct_sts</th>\n      <th>frz_sts</th>\n      <th>stp_sts</th>\n      <th>acct_bal</th>\n      <th>bal</th>\n      <th>avg_mth_y</th>\n      <th>avg_qur_y</th>\n      <th>avg_year_y</th>\n    </tr>\n  </thead>\n  <tbody>\n    <tr>\n      <th>0</th>\n      <td>539.47</td>\n      <td>64.41</td>\n      <td>0.0</td>\n      <td>3897.68</td>\n      <td>539.47</td>\n      <td>0.0</td>\n      <td>0.0</td>\n      <td>539.47</td>\n      <td>0.0</td>\n      <td>0.0</td>\n      <td>...</td>\n      <td>0.0</td>\n      <td>0.0</td>\n      <td>0.0</td>\n      <td>0.0</td>\n      <td>0.0</td>\n      <td>6.00</td>\n      <td>6.00</td>\n      <td>0.00</td>\n      <td>0.0</td>\n      <td>9.00</td>\n    </tr>\n    <tr>\n      <th>1</th>\n      <td>1.43</td>\n      <td>0.17</td>\n      <td>0.0</td>\n      <td>1.43</td>\n      <td>1.43</td>\n      <td>0.0</td>\n      <td>0.0</td>\n      <td>1.43</td>\n      <td>0.0</td>\n      <td>0.0</td>\n      <td>...</td>\n      <td>0.0</td>\n      <td>0.0</td>\n      <td>0.0</td>\n      <td>0.0</td>\n      <td>0.0</td>\n      <td>6.00</td>\n      <td>6.00</td>\n      <td>0.00</td>\n      <td>0.0</td>\n      <td>9.00</td>\n    </tr>\n    <tr>\n      <th>2</th>\n      <td>14.16</td>\n      <td>1.69</td>\n      <td>0.0</td>\n      <td>14.16</td>\n      <td>14.16</td>\n      <td>0.0</td>\n      <td>0.0</td>\n      <td>14.16</td>\n      <td>0.0</td>\n      <td>0.0</td>\n      <td>...</td>\n      <td>0.0</td>\n      <td>0.0</td>\n      <td>0.0</td>\n      <td>0.0</td>\n      <td>0.0</td>\n      <td>14.16</td>\n      <td>14.16</td>\n      <td>1.69</td>\n      <td>0.0</td>\n      <td>14.16</td>\n    </tr>\n    <tr>\n      <th>3</th>\n      <td>0.00</td>\n      <td>0.00</td>\n      <td>0.0</td>\n      <td>0.00</td>\n      <td>0.00</td>\n      <td>0.0</td>\n      <td>0.0</td>\n      <td>0.00</td>\n      <td>0.0</td>\n      <td>0.0</td>\n      <td>...</td>\n      <td>0.0</td>\n      <td>0.0</td>\n      <td>0.0</td>\n      <td>0.0</td>\n      <td>0.0</td>\n      <td>0.00</td>\n      <td>0.00</td>\n      <td>0.00</td>\n      <td>0.0</td>\n      <td>0.00</td>\n    </tr>\n    <tr>\n      <th>4</th>\n      <td>427.18</td>\n      <td>51.01</td>\n      <td>0.0</td>\n      <td>619.73</td>\n      <td>427.18</td>\n      <td>0.0</td>\n      <td>0.0</td>\n      <td>427.18</td>\n      <td>0.0</td>\n      <td>0.0</td>\n      <td>...</td>\n      <td>0.0</td>\n      <td>0.0</td>\n      <td>0.0</td>\n      <td>0.0</td>\n      <td>0.0</td>\n      <td>427.18</td>\n      <td>427.18</td>\n      <td>51.01</td>\n      <td>0.0</td>\n      <td>619.73</td>\n    </tr>\n  </tbody>\n</table>\n<p>5 rows × 28 columns</p>\n</div>"
     },
     "execution_count": 16,
     "metadata": {},
     "output_type": "execute_result"
    }
   ],
   "source": [
    "uid = df.iloc[:, 0]\n",
    "x = df.iloc[:, 1:-1]\n",
    "x.head(5)"
   ],
   "metadata": {
    "collapsed": false,
    "pycharm": {
     "name": "#%%\n"
    }
   }
  },
  {
   "cell_type": "code",
   "execution_count": 17,
   "outputs": [
    {
     "data": {
      "text/plain": "0   -1\n1    1\n2    1\n3    1\n4    1\nName: star_level, dtype: int64"
     },
     "execution_count": 17,
     "metadata": {},
     "output_type": "execute_result"
    }
   ],
   "source": [
    "y = df.iloc[:, -1]\n",
    "y.head(5)"
   ],
   "metadata": {
    "collapsed": false,
    "pycharm": {
     "name": "#%%\n"
    }
   }
  },
  {
   "cell_type": "code",
   "execution_count": 18,
   "outputs": [
    {
     "name": "stdout",
     "output_type": "stream",
     "text": [
      "15  variables are found to be almost constant\n"
     ]
    },
    {
     "data": {
      "text/plain": "['avg_qur_x',\n 'fin_bal',\n 'td_crd_bal',\n 'sa_td_bal',\n 'ntc_bal',\n 'td_3m_bal',\n 'td_6m_bal',\n 'td_2y_bal',\n 'out_td_bal',\n 'cd_bal',\n 'acct_char',\n 'acct_sts',\n 'frz_sts',\n 'stp_sts',\n 'avg_qur_y']"
     },
     "execution_count": 18,
     "metadata": {},
     "output_type": "execute_result"
    }
   ],
   "source": [
    "# filter_method: 剔除常量，因为这些特征对于 y 值没有任何的影响\n",
    "constant_feature = ft.constant_feature_detect(x, threshold=0.93)\n",
    "constant_feature"
   ],
   "metadata": {
    "collapsed": false,
    "pycharm": {
     "name": "#%%\n"
    }
   }
  },
  {
   "cell_type": "code",
   "execution_count": 19,
   "outputs": [
    {
     "data": {
      "text/plain": "   all_bal  avg_mth_x  avg_year_x  sa_bal  td_bal  sa_crd_bal  td_1y_bal  \\\n0   539.47      64.41     3897.68  539.47     0.0      539.47        0.0   \n1     1.43       0.17        1.43    1.43     0.0        1.43        0.0   \n2    14.16       1.69       14.16   14.16     0.0       14.16        0.0   \n3     0.00       0.00        0.00    0.00     0.0        0.00        0.0   \n4   427.18      51.01      619.73  427.18     0.0      427.18        0.0   \n\n   td_3y_bal  deps_type  acct_bal     bal  avg_mth_y  avg_year_y  \n0        0.0        0.0      6.00    6.00       0.00        9.00  \n1        0.0        0.0      6.00    6.00       0.00        9.00  \n2        0.0        0.0     14.16   14.16       1.69       14.16  \n3        0.0        0.0      0.00    0.00       0.00        0.00  \n4        0.0        0.0    427.18  427.18      51.01      619.73  ",
      "text/html": "<div>\n<style scoped>\n    .dataframe tbody tr th:only-of-type {\n        vertical-align: middle;\n    }\n\n    .dataframe tbody tr th {\n        vertical-align: top;\n    }\n\n    .dataframe thead th {\n        text-align: right;\n    }\n</style>\n<table border=\"1\" class=\"dataframe\">\n  <thead>\n    <tr style=\"text-align: right;\">\n      <th></th>\n      <th>all_bal</th>\n      <th>avg_mth_x</th>\n      <th>avg_year_x</th>\n      <th>sa_bal</th>\n      <th>td_bal</th>\n      <th>sa_crd_bal</th>\n      <th>td_1y_bal</th>\n      <th>td_3y_bal</th>\n      <th>deps_type</th>\n      <th>acct_bal</th>\n      <th>bal</th>\n      <th>avg_mth_y</th>\n      <th>avg_year_y</th>\n    </tr>\n  </thead>\n  <tbody>\n    <tr>\n      <th>0</th>\n      <td>539.47</td>\n      <td>64.41</td>\n      <td>3897.68</td>\n      <td>539.47</td>\n      <td>0.0</td>\n      <td>539.47</td>\n      <td>0.0</td>\n      <td>0.0</td>\n      <td>0.0</td>\n      <td>6.00</td>\n      <td>6.00</td>\n      <td>0.00</td>\n      <td>9.00</td>\n    </tr>\n    <tr>\n      <th>1</th>\n      <td>1.43</td>\n      <td>0.17</td>\n      <td>1.43</td>\n      <td>1.43</td>\n      <td>0.0</td>\n      <td>1.43</td>\n      <td>0.0</td>\n      <td>0.0</td>\n      <td>0.0</td>\n      <td>6.00</td>\n      <td>6.00</td>\n      <td>0.00</td>\n      <td>9.00</td>\n    </tr>\n    <tr>\n      <th>2</th>\n      <td>14.16</td>\n      <td>1.69</td>\n      <td>14.16</td>\n      <td>14.16</td>\n      <td>0.0</td>\n      <td>14.16</td>\n      <td>0.0</td>\n      <td>0.0</td>\n      <td>0.0</td>\n      <td>14.16</td>\n      <td>14.16</td>\n      <td>1.69</td>\n      <td>14.16</td>\n    </tr>\n    <tr>\n      <th>3</th>\n      <td>0.00</td>\n      <td>0.00</td>\n      <td>0.00</td>\n      <td>0.00</td>\n      <td>0.0</td>\n      <td>0.00</td>\n      <td>0.0</td>\n      <td>0.0</td>\n      <td>0.0</td>\n      <td>0.00</td>\n      <td>0.00</td>\n      <td>0.00</td>\n      <td>0.00</td>\n    </tr>\n    <tr>\n      <th>4</th>\n      <td>427.18</td>\n      <td>51.01</td>\n      <td>619.73</td>\n      <td>427.18</td>\n      <td>0.0</td>\n      <td>427.18</td>\n      <td>0.0</td>\n      <td>0.0</td>\n      <td>0.0</td>\n      <td>427.18</td>\n      <td>427.18</td>\n      <td>51.01</td>\n      <td>619.73</td>\n    </tr>\n  </tbody>\n</table>\n</div>"
     },
     "execution_count": 19,
     "metadata": {},
     "output_type": "execute_result"
    }
   ],
   "source": [
    "x.drop(labels=constant_feature, axis=1, inplace=True)\n",
    "x.head(5)"
   ],
   "metadata": {
    "collapsed": false,
    "pycharm": {
     "name": "#%%\n"
    }
   }
  },
  {
   "cell_type": "code",
   "execution_count": 20,
   "outputs": [
    {
     "name": "stdout",
     "output_type": "stream",
     "text": [
      "  feature1    feature2      corr\n",
      "0   sa_bal  sa_crd_bal  0.984466 \n",
      "\n",
      "   feature1    feature2      corr\n",
      "2   all_bal   avg_mth_x  0.981151\n",
      "10  all_bal      td_bal  0.964273\n",
      "15  all_bal  avg_year_x  0.943521\n",
      "26  all_bal   td_3y_bal  0.818252 \n",
      "\n",
      "   feature1    feature2      corr\n",
      "4       bal   avg_mth_y  0.978356\n",
      "22      bal  avg_year_y  0.847746 \n",
      "\n",
      "    feature1    feature2      corr\n",
      "5   acct_bal   avg_mth_y  0.978356\n",
      "25  acct_bal  avg_year_y  0.847746 \n",
      "\n"
     ]
    }
   ],
   "source": [
    "# 计算相关系数，相关系数大于 0.7 的特征可以删除\n",
    "corr = ft.corr_feature_detect(data=x, threshold=0.7)\n",
    "for i in corr:\n",
    "    print(i, '\\n')"
   ],
   "metadata": {
    "collapsed": false,
    "pycharm": {
     "name": "#%%\n"
    }
   }
  },
  {
   "cell_type": "code",
   "execution_count": 21,
   "outputs": [],
   "source": [
    "corr_columns = ['sa_bal', 'all_bal', 'bal', 'acct_bal']\n",
    "x.drop(columns=corr_columns, axis=1, inplace=True)"
   ],
   "metadata": {
    "collapsed": false,
    "pycharm": {
     "name": "#%%\n"
    }
   }
  },
  {
   "cell_type": "code",
   "execution_count": 22,
   "outputs": [
    {
     "data": {
      "text/plain": "        index        VIF\n0   avg_mth_x  69.126398\n1  avg_year_x  26.989500\n2      td_bal  47.270895\n3  sa_crd_bal   2.774719\n4   td_1y_bal   1.977634\n5   td_3y_bal   6.913430\n6   deps_type   1.044099\n7   avg_mth_y   4.186826\n8  avg_year_y   3.841651",
      "text/html": "<div>\n<style scoped>\n    .dataframe tbody tr th:only-of-type {\n        vertical-align: middle;\n    }\n\n    .dataframe tbody tr th {\n        vertical-align: top;\n    }\n\n    .dataframe thead th {\n        text-align: right;\n    }\n</style>\n<table border=\"1\" class=\"dataframe\">\n  <thead>\n    <tr style=\"text-align: right;\">\n      <th></th>\n      <th>index</th>\n      <th>VIF</th>\n    </tr>\n  </thead>\n  <tbody>\n    <tr>\n      <th>0</th>\n      <td>avg_mth_x</td>\n      <td>69.126398</td>\n    </tr>\n    <tr>\n      <th>1</th>\n      <td>avg_year_x</td>\n      <td>26.989500</td>\n    </tr>\n    <tr>\n      <th>2</th>\n      <td>td_bal</td>\n      <td>47.270895</td>\n    </tr>\n    <tr>\n      <th>3</th>\n      <td>sa_crd_bal</td>\n      <td>2.774719</td>\n    </tr>\n    <tr>\n      <th>4</th>\n      <td>td_1y_bal</td>\n      <td>1.977634</td>\n    </tr>\n    <tr>\n      <th>5</th>\n      <td>td_3y_bal</td>\n      <td>6.913430</td>\n    </tr>\n    <tr>\n      <th>6</th>\n      <td>deps_type</td>\n      <td>1.044099</td>\n    </tr>\n    <tr>\n      <th>7</th>\n      <td>avg_mth_y</td>\n      <td>4.186826</td>\n    </tr>\n    <tr>\n      <th>8</th>\n      <td>avg_year_y</td>\n      <td>3.841651</td>\n    </tr>\n  </tbody>\n</table>\n</div>"
     },
     "execution_count": 22,
     "metadata": {},
     "output_type": "execute_result"
    }
   ],
   "source": [
    "# 计算 VIF 共线性，共线性大于 20 的特征删除\n",
    "vif = ft.calc_VIF(x)\n",
    "vif.head(30)"
   ],
   "metadata": {
    "collapsed": false,
    "pycharm": {
     "name": "#%%\n"
    }
   }
  },
  {
   "cell_type": "code",
   "execution_count": 23,
   "outputs": [],
   "source": [
    "# all_bal、td_bal、acct_bal、bal 共线性太强，剔除\n",
    "vif_columns = ['avg_mth_x', 'td_bal', 'avg_year_x']\n",
    "x.drop(columns=vif_columns, axis=1, inplace=True)"
   ],
   "metadata": {
    "collapsed": false,
    "pycharm": {
     "name": "#%%\n"
    }
   }
  },
  {
   "cell_type": "code",
   "execution_count": 24,
   "outputs": [
    {
     "name": "stdout",
     "output_type": "stream",
     "text": [
      "Index(['sa_crd_bal', 'td_1y_bal', 'td_3y_bal', 'avg_year_y'], dtype='object')\n"
     ]
    }
   ],
   "source": [
    "# 互信息衡量选择最好的 80% 特征\n",
    "mi = ft.mutual_info(X=x, y=y, select_k=0.8)\n",
    "print(mi)"
   ],
   "metadata": {
    "collapsed": false,
    "pycharm": {
     "name": "#%%\n"
    }
   }
  },
  {
   "cell_type": "code",
   "execution_count": 25,
   "outputs": [
    {
     "data": {
      "text/plain": "   sa_crd_bal  td_1y_bal  td_3y_bal  avg_year_y\n0      539.47        0.0        0.0        9.00\n1        1.43        0.0        0.0        9.00\n2       14.16        0.0        0.0       14.16\n3        0.00        0.0        0.0        0.00\n4      427.18        0.0        0.0      619.73",
      "text/html": "<div>\n<style scoped>\n    .dataframe tbody tr th:only-of-type {\n        vertical-align: middle;\n    }\n\n    .dataframe tbody tr th {\n        vertical-align: top;\n    }\n\n    .dataframe thead th {\n        text-align: right;\n    }\n</style>\n<table border=\"1\" class=\"dataframe\">\n  <thead>\n    <tr style=\"text-align: right;\">\n      <th></th>\n      <th>sa_crd_bal</th>\n      <th>td_1y_bal</th>\n      <th>td_3y_bal</th>\n      <th>avg_year_y</th>\n    </tr>\n  </thead>\n  <tbody>\n    <tr>\n      <th>0</th>\n      <td>539.47</td>\n      <td>0.0</td>\n      <td>0.0</td>\n      <td>9.00</td>\n    </tr>\n    <tr>\n      <th>1</th>\n      <td>1.43</td>\n      <td>0.0</td>\n      <td>0.0</td>\n      <td>9.00</td>\n    </tr>\n    <tr>\n      <th>2</th>\n      <td>14.16</td>\n      <td>0.0</td>\n      <td>0.0</td>\n      <td>14.16</td>\n    </tr>\n    <tr>\n      <th>3</th>\n      <td>0.00</td>\n      <td>0.0</td>\n      <td>0.0</td>\n      <td>0.00</td>\n    </tr>\n    <tr>\n      <th>4</th>\n      <td>427.18</td>\n      <td>0.0</td>\n      <td>0.0</td>\n      <td>619.73</td>\n    </tr>\n  </tbody>\n</table>\n</div>"
     },
     "execution_count": 25,
     "metadata": {},
     "output_type": "execute_result"
    }
   ],
   "source": [
    "new_x = x[['sa_crd_bal', 'td_1y_bal', 'td_3y_bal', 'avg_year_y']]\n",
    "new_x.head(5)"
   ],
   "metadata": {
    "collapsed": false,
    "pycharm": {
     "name": "#%%\n"
    }
   }
  },
  {
   "cell_type": "code",
   "execution_count": 28,
   "outputs": [],
   "source": [
    "ans = pd.concat([uid, x, y], axis=1)\n",
    "ans.to_csv('../new_star_data.csv', header=True, index=False, sep=',')"
   ],
   "metadata": {
    "collapsed": false,
    "pycharm": {
     "name": "#%%\n"
    }
   }
  },
  {
   "cell_type": "code",
   "execution_count": null,
   "outputs": [],
   "source": [],
   "metadata": {
    "collapsed": false,
    "pycharm": {
     "name": "#%%\n"
    }
   }
  }
 ],
 "metadata": {
  "kernelspec": {
   "display_name": "Python 3",
   "language": "python",
   "name": "python3"
  },
  "language_info": {
   "codemirror_mode": {
    "name": "ipython",
    "version": 2
   },
   "file_extension": ".py",
   "mimetype": "text/x-python",
   "name": "python",
   "nbconvert_exporter": "python",
   "pygments_lexer": "ipython2",
   "version": "2.7.6"
  }
 },
 "nbformat": 4,
 "nbformat_minor": 0
}