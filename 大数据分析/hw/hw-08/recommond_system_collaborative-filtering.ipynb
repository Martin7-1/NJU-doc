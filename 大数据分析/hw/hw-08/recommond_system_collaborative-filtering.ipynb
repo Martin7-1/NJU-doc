{
 "cells": [
  {
   "cell_type": "markdown",
   "id": "5551e215",
   "metadata": {},
   "source": [
    "# 基于内容的协同过滤的推荐系统实现"
   ]
  },
  {
   "cell_type": "markdown",
   "id": "370a3106",
   "metadata": {},
   "source": [
    "代码依赖：\n",
    "1. pandas，用来读取 csv 数据\n",
    "2. ml-latest-small 数据集，解压缩后和该文件放在同一目录下。"
   ]
  },
  {
   "cell_type": "code",
   "execution_count": 1,
   "id": "d0b1f174",
   "metadata": {},
   "outputs": [],
   "source": [
    "import pandas as pd\n",
    "from math import *"
   ]
  },
  {
   "cell_type": "markdown",
   "id": "788d71d9",
   "metadata": {},
   "source": [
    "## 读取数据\n",
    "\n",
    "我们用到的数据是 movies.csv，包含电影的 title、movieId 等信息。ratings.csv 包含了 userId、用户对电影的评分。下面代码通过 pandas 来读取 csv 文件，并输出前五行查看结果"
   ]
  },
  {
   "cell_type": "code",
   "execution_count": 2,
   "id": "45a065af",
   "metadata": {},
   "outputs": [
    {
     "name": "stdout",
     "output_type": "stream",
     "text": [
      "   movieId                               title  \\\n",
      "0        1                    Toy Story (1995)   \n",
      "1        2                      Jumanji (1995)   \n",
      "2        3             Grumpier Old Men (1995)   \n",
      "3        4            Waiting to Exhale (1995)   \n",
      "4        5  Father of the Bride Part II (1995)   \n",
      "\n",
      "                                        genres  \n",
      "0  Adventure|Animation|Children|Comedy|Fantasy  \n",
      "1                   Adventure|Children|Fantasy  \n",
      "2                               Comedy|Romance  \n",
      "3                         Comedy|Drama|Romance  \n",
      "4                                       Comedy  \n",
      "   userId  movieId  rating  timestamp\n",
      "0       1        1     4.0  964982703\n",
      "1       1        3     4.0  964981247\n",
      "2       1        6     4.0  964982224\n",
      "3       1       47     5.0  964983815\n",
      "4       1       50     5.0  964982931\n"
     ]
    }
   ],
   "source": [
    "# ratings.csv文件中包含了完整数据集。\n",
    "data_path='./ml-latest-small/ratings.csv'\n",
    "# 读取数据 \n",
    "movies = pd.read_csv('./ml-latest-small/movies.csv')\n",
    "ratings = pd.read_csv('./ml-latest-small/ratings.csv')\n",
    "print(movies.head(5))\n",
    "print(ratings.head(5))"
   ]
  },
  {
   "cell_type": "code",
   "execution_count": 3,
   "id": "c34858e6",
   "metadata": {},
   "outputs": [],
   "source": [
    "# 通过 movieId 进行一个表连接\n",
    "# 输出到 data.csv 中，方便后面直接使用\n",
    "data = pd.merge(movies, ratings, on='movieId')\n",
    "data[['userId', 'rating', 'movieId', 'title']].sort_values('userId').to_csv('./ml-latest-small/data.csv', index=False)\n",
    "# 采用Python字典来表示每位用户评论的电影和评分\n",
    "file = open('./ml-latest-small/data.csv', 'r', encoding='UTF-8')\n",
    "\n",
    "# 读取data.csv中每行中除了名字的数据\n",
    "# 存放每位用户评论的电影和评分\n",
    "data = {} \n",
    "for line in file.readlines()[1:]:\n",
    "    # 有些 title 也有 \",\" 因此我们要判断一下长度\n",
    "    line = line.strip().split(',') # 去掉每行头尾空白\n",
    "    if len(line) > 4:\n",
    "        for i in range(4, len(line)):\n",
    "            line[3] = line[3] + ',' + line[i]\n",
    "        line = line[0: 4]\n",
    "    # 如果字典中没有某位用户，则使用用户ID来创建这位用户\n",
    "    if not line[0] in data.keys():\n",
    "        data[line[0]] = {line[3]: line[1]}\n",
    "    #  否则直接添加以该用户ID为key字典中\n",
    "    else:\n",
    "        data[line[0]][line[3]] = line[1]\n",
    "\n",
    "file.close()"
   ]
  },
  {
   "cell_type": "code",
   "execution_count": 4,
   "id": "fb6e9ab6",
   "metadata": {},
   "outputs": [],
   "source": [
    "# 计算两用户之间的Pearson相关系数\n",
    "def pearson_sim(user1, user2):\n",
    "    # 取出两位用户评论过的电影和评分\n",
    "    user1_data = data[user1]\n",
    "    user2_data = data[user2]\n",
    "    distance = 0\n",
    "    common = {}\n",
    " \n",
    "    # 找到两位用户都评论过的电影\n",
    "    for key in user1_data.keys():\n",
    "        if key in user2_data.keys():\n",
    "            common[key] = 1\n",
    "    if len(common) == 0:\n",
    "        return 0 # 如果没有共同评论过的电影，则返回0\n",
    "    n = len(common) # 共同电影数目\n",
    " \n",
    "    ##计算评分和\n",
    "    sum1 = sum([float(user1_data[movie]) for movie in common])\n",
    "    sum2 = sum([float(user2_data[movie]) for movie in common])\n",
    " \n",
    "    ##计算评分平方和\n",
    "    sum1Sq = sum([pow(float(user1_data[movie]), 2) for movie in common])\n",
    "    sum2Sq = sum([pow(float(user2_data[movie]), 2) for movie in common])\n",
    " \n",
    "    ##计算乘积和\n",
    "    p_sum = sum([float(user1_data[it])*float(user2_data[it]) for it in common])\n",
    " \n",
    "    ##计算相关系数\n",
    "    num = p_sum - (sum1 * sum2 / n)\n",
    "    den = sqrt((sum1Sq - pow(sum1, 2) / n) * (sum2Sq - pow(sum2, 2) / n))\n",
    "    if den == 0:\n",
    "        return 0\n",
    "    return num / den"
   ]
  },
  {
   "cell_type": "code",
   "execution_count": 14,
   "id": "34af44f1",
   "metadata": {},
   "outputs": [],
   "source": [
    "# 计算某个用户与其他用户的相似度\n",
    "# 我们通过定义一个阈值 0.75 来判断两个用户是十分相似的（强相关）\n",
    "def get_similar_user(target_user):\n",
    "    res = []\n",
    "    for user_id in data.keys():\n",
    "        # 排除与自己计算相似度\n",
    "        if not user_id == target_user:\n",
    "            similar_rate = pearson_sim(target_user, user_id)\n",
    "            if similar_rate > 0.75:\n",
    "                res.append((user_id, similar_rate)) \n",
    "    res.sort(key=lambda val:val[1], reverse=True) # 按照元组中第二个元素进行排序，默认从小到大，降序需要使用reverse=True\n",
    "    return res"
   ]
  },
  {
   "cell_type": "code",
   "execution_count": 15,
   "id": "80884fc7",
   "metadata": {},
   "outputs": [],
   "source": [
    "# 根据相似度来推荐用户：\n",
    "# 这里我们可以对达到阈值的用户都做一个推荐\n",
    "def recommend(user):\n",
    "    recommendations = []\n",
    "    for similar_user in get_similar_user(user):\n",
    "        user_id = similar_user[0]\n",
    "        items = data[user_id]\n",
    "        for item in items.keys():\n",
    "            if item not in data[user].keys():\n",
    "                recommendations.append((item, items[item]))\n",
    "    # 按照评分来进行排序\n",
    "    recommendations.sort(key=lambda val:val[1], reverse=True)\n",
    "    # 返回评分最高的10部电影\n",
    "    return recommendations[:10]"
   ]
  },
  {
   "cell_type": "code",
   "execution_count": 16,
   "id": "98c6c6cf",
   "metadata": {},
   "outputs": [
    {
     "name": "stdout",
     "output_type": "stream",
     "text": [
      "user num: 610\n"
     ]
    }
   ],
   "source": [
    "# 获得用户有多少\n",
    "map_data = pd.read_csv('./ml-latest-small/movies.csv')\n",
    "user_data = pd.read_csv('./ml-latest-small/data.csv')\n",
    "user_num = user_data.userId.unique().shape[0]\n",
    "print(\"user num: \" + str(user_num))"
   ]
  },
  {
   "cell_type": "code",
   "execution_count": 17,
   "id": "5e006dbc",
   "metadata": {},
   "outputs": [],
   "source": [
    "def get_movie_id(movie):\n",
    "    for i in range(len(map_data)):\n",
    "        if str(map_data['title'][i]) == movie:\n",
    "            return map_data['movieId'][i]"
   ]
  },
  {
   "cell_type": "code",
   "execution_count": 18,
   "id": "bd251797",
   "metadata": {},
   "outputs": [],
   "source": [
    "# 输出到文件中\n",
    "user_list = []\n",
    "movies_list = []\n",
    "\n",
    "for i in range(1, user_num + 1):\n",
    "    recommend_list = recommend(str(i))\n",
    "    for movie in recommend_list:\n",
    "        # 这里的 movie[0] 可能有 \"\" 要处理\n",
    "        temp_movie = movie[0]\n",
    "        if movie[0].startswith('\"') and movie[0].endswith('\"'):\n",
    "            temp_movie = movie[0][1: -1]\n",
    "        user_list.append(i)\n",
    "        movie_id = get_movie_id(temp_movie)\n",
    "        if movie_id == None:\n",
    "            print(movie[0])\n",
    "            print(temp_movie)\n",
    "        movies_list.append(-1 if movie_id == None else movie_id)\n",
    "\n",
    "# 字典中的key值即为csv中列名\n",
    "dataframe = pd.DataFrame({'userId': user_list, 'movieId': movies_list})\n",
    "\n",
    "# 将DataFrame存储为csv,index表示是否显示行名，default=True\n",
    "dataframe.to_csv(\"./movie.csv\", index=False, sep=',')"
   ]
  },
  {
   "cell_type": "code",
   "execution_count": null,
   "id": "1c3e906a",
   "metadata": {},
   "outputs": [],
   "source": [
    "# 结果评估"
   ]
  },
  {
   "cell_type": "code",
   "execution_count": null,
   "id": "a7dc45c3",
   "metadata": {},
   "outputs": [],
   "source": []
  },
  {
   "cell_type": "code",
   "execution_count": null,
   "id": "6ea34c07",
   "metadata": {},
   "outputs": [],
   "source": []
  },
  {
   "cell_type": "code",
   "execution_count": null,
   "id": "5d683d2a",
   "metadata": {},
   "outputs": [],
   "source": []
  }
 ],
 "metadata": {
  "kernelspec": {
   "display_name": "Python 3 (ipykernel)",
   "language": "python",
   "name": "python3"
  },
  "language_info": {
   "codemirror_mode": {
    "name": "ipython",
    "version": 3
   },
   "file_extension": ".py",
   "mimetype": "text/x-python",
   "name": "python",
   "nbconvert_exporter": "python",
   "pygments_lexer": "ipython3",
   "version": "3.10.6"
  }
 },
 "nbformat": 4,
 "nbformat_minor": 5
}
